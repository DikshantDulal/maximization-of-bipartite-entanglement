{
 "cells": [
  {
   "cell_type": "code",
   "execution_count": 13,
   "metadata": {},
   "outputs": [],
   "source": [
    "from qiskit import QuantumCircuit, ClassicalRegister, QuantumRegister\n",
    "from qiskit import IBMQ\n",
    "import qiskit\n",
    "import random\n",
    "import pandas as pd\n",
    "import numpy as np \n",
    "from qiskit.providers.ibmq import IBMQJob\n",
    "from qiskit.providers.ibmq.job import job_monitor\n",
    "\n",
    "\n",
    "\n",
    "\n",
    "\n"
   ]
  },
  {
   "cell_type": "code",
   "execution_count": 4,
   "metadata": {},
   "outputs": [
    {
     "name": "stderr",
     "output_type": "stream",
     "text": [
      "configrc.store_credentials:WARNING:2020-11-01 13:33:57,862: Credentials already present. Set overwrite=True to overwrite.\n"
     ]
    }
   ],
   "source": [
    "IBMQ.save_account('e16aff0cd0c88a64f3123ca8f2417390e7c73433dbc8b7d872ff853bd6045d642d2230ed0b26ee080c6947f2c924fa031339b76ecd79c0b96eb9b6c08184230d')"
   ]
  },
  {
   "cell_type": "code",
   "execution_count": 5,
   "metadata": {},
   "outputs": [
    {
     "data": {
      "text/plain": [
       "[<IBMQSimulator('ibmq_qasm_simulator') from IBMQ(hub='ibm-q', group='open', project='main')>,\n",
       " <IBMQBackend('ibmqx2') from IBMQ(hub='ibm-q', group='open', project='main')>,\n",
       " <IBMQBackend('ibmq_16_melbourne') from IBMQ(hub='ibm-q', group='open', project='main')>,\n",
       " <IBMQBackend('ibmq_vigo') from IBMQ(hub='ibm-q', group='open', project='main')>,\n",
       " <IBMQBackend('ibmq_ourense') from IBMQ(hub='ibm-q', group='open', project='main')>,\n",
       " <IBMQBackend('ibmq_valencia') from IBMQ(hub='ibm-q', group='open', project='main')>,\n",
       " <IBMQBackend('ibmq_armonk') from IBMQ(hub='ibm-q', group='open', project='main')>,\n",
       " <IBMQBackend('ibmq_athens') from IBMQ(hub='ibm-q', group='open', project='main')>,\n",
       " <IBMQBackend('ibmq_santiago') from IBMQ(hub='ibm-q', group='open', project='main')>]"
      ]
     },
     "execution_count": 5,
     "metadata": {},
     "output_type": "execute_result"
    }
   ],
   "source": [
    "IBMQ.load_account()\n",
    "IBMQ.providers()\n",
    "provider = IBMQ.get_provider()\n",
    "provider.backends()"
   ]
  },
  {
   "cell_type": "code",
   "execution_count": 6,
   "metadata": {},
   "outputs": [],
   "source": [
    "api = 'e16aff0cd0c88a64f3123ca8f2417390e7c73433dbc8b7d872ff853bd6045d642d2230ed0b26ee080c6947f2c924fa031339b76ecd79c0b96eb9b6c08184230d'"
   ]
  },
  {
   "cell_type": "code",
   "execution_count": 139,
   "metadata": {},
   "outputs": [],
   "source": [
    "import numpy as np\n",
    "\n",
    "\n",
    "def Pauli(j):\n",
    "    if j == 0:\n",
    "        return np.array([[1, 0], [0, 1]])\n",
    "    elif j == 1:\n",
    "        return np.array([[0, 1], [1, 0]])\n",
    "    elif j == 2:\n",
    "        return np.array([[0, -1j], [1j, 0]])\n",
    "    elif j == 3:\n",
    "        return np.array([[1, 0], [0, -1]])\n",
    "\n",
    "\n"
   ]
  },
  {
   "cell_type": "code",
   "execution_count": 140,
   "metadata": {},
   "outputs": [],
   "source": [
    "def trace(A):\n",
    "    tr = 0\n",
    "    for i in range(len(A)):\n",
    "        tr+= A[i][i] \n",
    "    return(tr)\n",
    "\n"
   ]
  },
  {
   "cell_type": "code",
   "execution_count": 141,
   "metadata": {},
   "outputs": [],
   "source": [
    "def normTr(d, A):\n",
    "    ev = np.linalg.eigvalsh(A)\n",
    "    Ntr = 0\n",
    "    for j in range(0, d):\n",
    "        Ntr += abs(ev[j]) #calculate the sum of all absolute values \n",
    "    return Ntr"
   ]
  },
  {
   "cell_type": "code",
   "execution_count": 142,
   "metadata": {},
   "outputs": [],
   "source": [
    "def negativity(d, rhoTp):\n",
    "    En = 0.5*(normTr(d, rhoTp) - 1.0)\n",
    "    return En\n",
    "\n",
    "\n",
    "\n"
   ]
  },
  {
   "cell_type": "code",
   "execution_count": 143,
   "metadata": {},
   "outputs": [],
   "source": [
    "#maximizing a  bell state:\n",
    "#This cell makes measurements in x,y,and z bases \n",
    "\n",
    "\n",
    "#variation_A_Hadamard_and_CNOT\n",
    "\n",
    "#n is number of qubits\n",
    "n = 2\n",
    "q = QuantumRegister(2, 'q')\n",
    "c = ClassicalRegister(2, 'c')\n",
    "qc = []\n",
    "\n",
    "for i in range(3**n):\n",
    "    qc.append(QuantumCircuit(q, c))\n",
    "    qc[i].id(0)\n",
    "    qc[i].id(1)\n",
    "    qc[i].barrier(0,1)\n",
    "    qc[i].h(0)\n",
    "    qc[i].barrier(0,1)\n",
    "    qc[i].id(0)\n",
    "    qc[i].id(1)\n",
    "    qc[i].barrier(0,1)\n",
    "    qc[i].cx(0,1)\n",
    "    qc[i].barrier(0,1)\n",
    "    qc[i].id(0)\n",
    "    qc[i].id(1)\n",
    "    qc[i].barrier(0,1)\n",
    "    \n",
    "    \n",
    "\n",
    "\n",
    "count = 0 #count refers to the total number of circuits.\n",
    "for i in range(3):\n",
    "    for j in range(3):\n",
    "        if i == 0: \n",
    "            qc[count].h(0)\n",
    "        elif i == 1:\n",
    "            qc[count].s(0).inverse()\n",
    "            qc[count].h(0)\n",
    "        if j == 0:\n",
    "            qc[count].h(1)\n",
    "        elif j == 1:\n",
    "            qc[count].s(1).inverse()\n",
    "            qc[count].h(1)\n",
    "        count += 1\n",
    "        \n",
    "for i in range(3**n):\n",
    "    qc[i].measure(q,c)\n",
    "\n",
    "  \n",
    "\n"
   ]
  },
  {
   "cell_type": "code",
   "execution_count": 144,
   "metadata": {},
   "outputs": [
    {
     "data": {
      "image/png": "[encoded data removed]",
      "text/plain": [
       "<Figure size 960.792x204.68 with 1 Axes>"
      ]
     },
     "execution_count": 144,
     "metadata": {},
     "output_type": "execute_result"
    }
   ],
   "source": [
    "qc[0].draw(output = 'mpl')"
   ]
  },
  {
   "cell_type": "code",
   "execution_count": 145,
   "metadata": {},
   "outputs": [
    {
     "data": {
      "text/plain": [
       "[<qiskit.circuit.quantumcircuit.QuantumCircuit at 0x1a223e0c10>,\n",
       " <qiskit.circuit.quantumcircuit.QuantumCircuit at 0x1a222ca610>,\n",
       " <qiskit.circuit.quantumcircuit.QuantumCircuit at 0x1a222cad90>,\n",
       " <qiskit.circuit.quantumcircuit.QuantumCircuit at 0x1a222276d0>,\n",
       " <qiskit.circuit.quantumcircuit.QuantumCircuit at 0x1a222d2a90>,\n",
       " <qiskit.circuit.quantumcircuit.QuantumCircuit at 0x1a222d2410>,\n",
       " <qiskit.circuit.quantumcircuit.QuantumCircuit at 0x1a222d2690>,\n",
       " <qiskit.circuit.quantumcircuit.QuantumCircuit at 0x1a226904d0>,\n",
       " <qiskit.circuit.quantumcircuit.QuantumCircuit at 0x1a22690b10>]"
      ]
     },
     "execution_count": 145,
     "metadata": {},
     "output_type": "execute_result"
    }
   ],
   "source": [
    "qc"
   ]
  },
  {
   "cell_type": "code",
   "execution_count": null,
   "metadata": {},
   "outputs": [
    {
     "name": "stdout",
     "output_type": "stream",
     "text": [
      "0\n",
      "Job Status: job has successfully run\n",
      "1\n",
      "Job Status: job has successfully run\n",
      "2\n",
      "Job Status: job has successfully run\n",
      "3\n",
      "Job Status: job has successfully run                        \n",
      "4\n",
      "Job Status: job is queued (2) [Est. wait time: 27 sec]      "
     ]
    }
   ],
   "source": [
    "backend = provider.get_backend('ibmq_valencia')\n",
    "output = []\n",
    "n = 75 # total number of circuits for each number of identity gates. \n",
    "for i in range(n):\n",
    "    job_exp = qiskit.execute(qc,backend=backend,shots = 8132)\n",
    "    print(i)\n",
    "    job_monitor(job_exp)\n",
    "    output = job_exp.result().get_counts()\n",
    "    df = pd.DataFrame(output)\n",
    "    df.to_csv(path  + \"var_A_H&C\" + str(i)+ \".csv\") ##variation_A_Hadamard_and_CNOT\n",
    "\n",
    "\n",
    "    \n",
    "\n",
    "\n",
    "\n",
    "\n",
    "\n",
    "\n",
    "\n",
    "\n"
   ]
  },
  {
   "cell_type": "markdown",
   "metadata": {},
   "source": [
    "#Automation planning:\n",
    "1) Place id_gates in 5 positions of the circuit\n",
    "2) write a code that does this in a single run. \n"
   ]
  },
  {
   "cell_type": "code",
   "execution_count": 12,
   "metadata": {},
   "outputs": [],
   "source": [
    "backend = provider.get_backend('ibmq_valencia')\n",
    "from qiskit.providers.ibmq.job import job_monitor\n",
    "from qiskit.visualization import plot_histogram\n",
    "\n",
    "job_exp = qiskit.execute(qc,backend=backend, shots = 8132)\n",
    "\n"
   ]
  },
  {
   "cell_type": "code",
   "execution_count": 13,
   "metadata": {
    "scrolled": true
   },
   "outputs": [
    {
     "name": "stdout",
     "output_type": "stream",
     "text": [
      "Job Status: job has successfully run\n"
     ]
    }
   ],
   "source": [
    "job_monitor(job_exp)"
   ]
  },
  {
   "cell_type": "code",
   "execution_count": 14,
   "metadata": {},
   "outputs": [
    {
     "ename": "NameError",
     "evalue": "name 'job_exp' is not defined",
     "output_type": "error",
     "traceback": [
      "\u001b[0;31m---------------------------------------------------------------------------\u001b[0m",
      "\u001b[0;31mNameError\u001b[0m                                 Traceback (most recent call last)",
      "\u001b[0;32m<ipython-input-14-9982b53a8ee3>\u001b[0m in \u001b[0;36m<module>\u001b[0;34m\u001b[0m\n\u001b[0;32m----> 1\u001b[0;31m \u001b[0moutput\u001b[0m \u001b[0;34m=\u001b[0m \u001b[0mjob_exp\u001b[0m\u001b[0;34m.\u001b[0m\u001b[0mresult\u001b[0m\u001b[0;34m(\u001b[0m\u001b[0;34m)\u001b[0m\u001b[0;34m.\u001b[0m\u001b[0mget_counts\u001b[0m\u001b[0;34m(\u001b[0m\u001b[0;34m)\u001b[0m\u001b[0;34m\u001b[0m\u001b[0;34m\u001b[0m\u001b[0m\n\u001b[0m\u001b[1;32m      2\u001b[0m \u001b[0moutput\u001b[0m\u001b[0;34m\u001b[0m\u001b[0;34m\u001b[0m\u001b[0m\n",
      "\u001b[0;31mNameError\u001b[0m: name 'job_exp' is not defined"
     ]
    }
   ],
   "source": [
    "output = job_exp.result().get_counts()\n",
    "output"
   ]
  },
  {
   "cell_type": "code",
   "execution_count": 15,
   "metadata": {},
   "outputs": [],
   "source": [
    "output = [{'00': 3679, '11': 4028, '01': 250, '10': 175},\n",
    " {'00': 2099, '11': 2150, '01': 2169, '10': 1714},\n",
    " {'00': 2051, '11': 1946, '01': 2282, '10': 1853},\n",
    " {'00': 2118, '11': 2090, '01': 1833, '10': 2091},\n",
    " {'00': 347, '11': 94, '01': 3888, '10': 3803},\n",
    " {'00': 2118, '11': 1811, '01': 2112, '10': 2091},\n",
    " {'00': 2122, '11': 1998, '01': 1902, '10': 2110},\n",
    " {'00': 2045, '11': 1853, '01': 2149, '10': 2085},\n",
    " {'00': 4049, '11': 3700, '01': 227, '10': 156}]"
   ]
  },
  {
   "cell_type": "code",
   "execution_count": 146,
   "metadata": {},
   "outputs": [],
   "source": [
    "#sorts the output based on tuples\n",
    "\n",
    "def sort_output(data):\n",
    "    sorted_output = []\n",
    "    for i in range(len(output)):\n",
    "        sorted_output.append(sorted(output[i].items()))\n",
    "    return(sorted_output)\n",
    "\n",
    "\n"
   ]
  },
  {
   "cell_type": "code",
   "execution_count": 17,
   "metadata": {},
   "outputs": [
    {
     "data": {
      "text/plain": [
       "[[('00', 3679), ('01', 250), ('10', 175), ('11', 4028)],\n",
       " [('00', 2099), ('01', 2169), ('10', 1714), ('11', 2150)],\n",
       " [('00', 2051), ('01', 2282), ('10', 1853), ('11', 1946)],\n",
       " [('00', 2118), ('01', 1833), ('10', 2091), ('11', 2090)],\n",
       " [('00', 347), ('01', 3888), ('10', 3803), ('11', 94)],\n",
       " [('00', 2118), ('01', 2112), ('10', 2091), ('11', 1811)],\n",
       " [('00', 2122), ('01', 1902), ('10', 2110), ('11', 1998)],\n",
       " [('00', 2045), ('01', 2149), ('10', 2085), ('11', 1853)],\n",
       " [('00', 4049), ('01', 227), ('10', 156), ('11', 3700)]]"
      ]
     },
     "execution_count": 17,
     "metadata": {},
     "output_type": "execute_result"
    }
   ],
   "source": [
    "sort_output(output)"
   ]
  },
  {
   "cell_type": "code",
   "execution_count": 149,
   "metadata": {},
   "outputs": [],
   "source": [
    "#takes the probabilities from the sorted_output and gives an array in sorted order.\n",
    "def probability(sorted_output):\n",
    "    ns = 8132\n",
    "    values = []\n",
    "    for i in range(len(sorted_output)):\n",
    "        for j in range(4):\n",
    "            values.append(sorted_output[i][j][1]/ns)\n",
    "    p = np.array(values)\n",
    "    p\n",
    "    return(p)\n",
    "    "
   ]
  },
  {
   "cell_type": "code",
   "execution_count": 148,
   "metadata": {
    "scrolled": true
   },
   "outputs": [
    {
     "data": {
      "text/plain": [
       "array([0.43679292, 0.02852927, 0.02164289, 0.51303492, 0.25627152,\n",
       "       0.27238072, 0.21741269, 0.25393507, 0.2461879 , 0.28246434,\n",
       "       0.22233153, 0.24901623, 0.25725529, 0.21962617, 0.26660108,\n",
       "       0.25651746, 0.04328578, 0.47319233, 0.47085588, 0.01266601,\n",
       "       0.25258239, 0.26783079, 0.26733891, 0.21224791, 0.25454993,\n",
       "       0.22319233, 0.26414166, 0.25811608, 0.24569602, 0.27336449,\n",
       "       0.26500246, 0.21593704, 0.50750123, 0.02656173, 0.02176586,\n",
       "       0.44417118])"
      ]
     },
     "execution_count": 148,
     "metadata": {},
     "output_type": "execute_result"
    }
   ],
   "source": [
    "p = probability(sort_output(output))\n",
    "p"
   ]
  },
  {
   "cell_type": "code",
   "execution_count": 150,
   "metadata": {
    "scrolled": true
   },
   "outputs": [],
   "source": [
    "#density operator reconstruction begins here. \n",
    "#Outputs probability coefficient using probability from IBM Q as input\n",
    "\n",
    "def prob_coeff(p):\n",
    "    d1 = np.eye(4)\n",
    "    ab = [1, -1]\n",
    "    A = []\n",
    "    for i in range(1,4):\n",
    "        for j in range(1,4):\n",
    "            for a in ab :\n",
    "                for b in ab :\n",
    "                    B = []\n",
    "                    for al in range(4):\n",
    "                        for be in range(4):\n",
    "                            mat = (d1[al][0] + a* d1[al][i]) * (d1[be][0] + b* d1[be][j])/4\n",
    "                            #mat = (int(d0[al]) + a* int(d1[i][al])) * (int(d0[be]) + b*int(d1[j][be]))/4 \n",
    "                            B.append(mat)\n",
    "                    A.append(B) #We append our matrix here because we need 16 different elements of c_s so that we don't need to reshape\n",
    "    M = np.array(A, dtype = float)\n",
    "    M_inv = np.linalg.pinv(M)\n",
    "    C = np.matmul(M_inv, p)\n",
    "    return(C)\n"
   ]
  },
  {
   "cell_type": "markdown",
   "metadata": {},
   "source": [
    "#This is the rho equation which takes the prob coefficients (C) as its input\n",
    "def rho_eq(C):\n",
    "    B = []\n",
    "    d = 0\n",
    "    for al in range(4):\n",
    "        for be in range(4):\n",
    "            rho_q2 = C[d] * np.kron(Pauli(al),Pauli(be))/4\n",
    "            d = d + 1\n",
    "            B.append(rho_q2)\n",
    "    \n",
    "    \n",
    "    return(B)\n",
    "\n",
    "rho = np.zeros((4,4))\n",
    "for i in range(len(B)):\n",
    "    rho = rho + B[i]\n",
    "rho\n",
    "\n",
    "#We combine these two parts to create the function below. \n",
    "\n",
    "\n"
   ]
  },
  {
   "cell_type": "code",
   "execution_count": 152,
   "metadata": {},
   "outputs": [],
   "source": [
    "#This is the rho equation which takes the prob coefficients (C) as its input and returns the reconstructed density operator\n",
    "def rho_eq(C):\n",
    "    B = []\n",
    "    d = 0\n",
    "    rho = np.zeros((4,4))\n",
    "    for al in range(4):\n",
    "        for be in range(4):\n",
    "            rho_q2 = C[d] * np.kron(Pauli(al),Pauli(be))/4\n",
    "            d = d + 1\n",
    "            B.append(rho_q2)\n",
    "        \n",
    "    for i in range(len(B)):\n",
    "        rho = rho + B[i]\n",
    "    return(rho)\n",
    "\n",
    "\n",
    "\n",
    "\n",
    "\n"
   ]
  },
  {
   "cell_type": "code",
   "execution_count": 72,
   "metadata": {},
   "outputs": [
    {
     "data": {
      "text/plain": [
       "array([[ 0.48497705+0.j        ,  0.00530825+0.01248155j,\n",
       "         0.0025619 +0.00395557j,  0.44675357-0.01998278j],\n",
       "       [ 0.00530825-0.01248155j,  0.02715609+0.j        ,\n",
       "         0.00098377+0.00252091j,  0.01104689-0.01289146j],\n",
       "       [ 0.0025619 -0.00395557j,  0.00098377-0.00252091j,\n",
       "         0.01994179+0.j        , -0.00133219-0.00817757j],\n",
       "       [ 0.44675357+0.01998278j,  0.01104689+0.01289146j,\n",
       "        -0.00133219+0.00817757j,  0.46792507+0.j        ]])"
      ]
     },
     "execution_count": 72,
     "metadata": {},
     "output_type": "execute_result"
    }
   ],
   "source": [
    "den_op = rho_eq(Coeff)\n",
    "den_op\n"
   ]
  },
  {
   "cell_type": "code",
   "execution_count": 153,
   "metadata": {},
   "outputs": [],
   "source": [
    "#takes the reconstructed density operator as its input and changes the list with negative eigenvalues to positive.\n",
    "def pos_eigval_creater(den_op):\n",
    "    a = 0\n",
    "    eigval = np.linalg.eigvalsh(den_op)\n",
    "    meu = sorted(eigval, reverse = True)\n",
    "    lmd = np.zeros(len(meu))\n",
    "    count = 0\n",
    "    for i in reversed(range(len(meu))) :\n",
    "        if (meu[i].real + a/(i+1)) < 0:\n",
    "            lmd[i] = 0\n",
    "            a += lmd[i] + meu[i]\n",
    "            lmd[i-1] = meu[i-1].real + a\n",
    "            count = count + 1\n",
    "\n",
    "        else:\n",
    "            lmd[i] = meu[i].real + a/(count+1)\n",
    "    return(lmd)\n",
    "        "
   ]
  },
  {
   "cell_type": "code",
   "execution_count": 154,
   "metadata": {},
   "outputs": [],
   "source": [
    "#This function takes our reconstructed density operator and updates it with new eigenvalues \n",
    "def rho_updated_meu(den_op,lmd):  #lmd is the new eigenvalue which is the output of  pos_eigval_creater(rho)\n",
    "    matrix = np.zeros((2**n,2**n))\n",
    "    eigval, eigvecs = np.linalg.eig(rho)\n",
    "    for i in range(len(lmd)):\n",
    "        matrix = matrix + lmd[i]* np.outer(eigvecs[i] , eigvecs[i])\n",
    "    return(matrix)\n",
    "\n"
   ]
  },
  {
   "cell_type": "code",
   "execution_count": 59,
   "metadata": {},
   "outputs": [
    {
     "data": {
      "text/plain": [
       "array([[ 0.47926326+0.00075948j, -0.35055673-0.05351065j,\n",
       "         0.22388438+0.07505597j, -0.13080277+0.08245219j],\n",
       "       [-0.35055673-0.05351065j,  0.27899626+0.08580631j,\n",
       "        -0.15263954-0.08998446j,  0.10713003-0.0581021j ],\n",
       "       [ 0.22388438+0.07505597j, -0.15263954-0.08998446j,\n",
       "         0.12236548+0.0780478j , -0.07933153+0.01559358j],\n",
       "       [-0.13080277+0.08245219j,  0.10713003-0.0581021j ,\n",
       "        -0.07933153+0.01559358j,  0.04364347-0.04620953j]])"
      ]
     },
     "execution_count": 59,
     "metadata": {},
     "output_type": "execute_result"
    }
   ],
   "source": [
    "lmd =  pos_eigval_creater(rho)\n",
    "rho_updated_meu(rho,lmd)"
   ]
  },
  {
   "cell_type": "code",
   "execution_count": 155,
   "metadata": {},
   "outputs": [],
   "source": [
    "def matrix_to_list(rho):\n",
    "    rho_list = []\n",
    "    for i in range(len(rho)):\n",
    "        for j in range(len(rho[0])):\n",
    "            rho_list.append(rho[i][j])\n",
    "    return(rho_list)\n",
    "\n"
   ]
  },
  {
   "cell_type": "code",
   "execution_count": 156,
   "metadata": {},
   "outputs": [],
   "source": [
    "def partial_transpose(rho_lst, q):#This function computes the partial transpose of a matrix. \n",
    "    z = np.array([1,0])\n",
    "    o = np.array([0,1])\n",
    "    lst = [z,o]\n",
    "    M = np.zeros((4,4))\n",
    "    dd = 0\n",
    "    for i in lst:\n",
    "        for j in lst:\n",
    "            for i1 in lst:\n",
    "                for j1 in lst:\n",
    "                    if q == 0:\n",
    "                        M = M + rho_lst[dd] * np.kron(np.outer(i1,i),np.outer(j,j1))\n",
    "                    elif q == 1:\n",
    "                        M = M + rho_lst[dd] * np.kron(np.outer(i,i1),np.outer(j1,j))\n",
    "                    dd = dd + 1\n",
    "    return(M)               \n",
    "                "
   ]
  },
  {
   "cell_type": "code",
   "execution_count": 157,
   "metadata": {},
   "outputs": [],
   "source": [
    "#How do I incorporate new eigenvalues to the density operator "
   ]
  },
  {
   "cell_type": "code",
   "execution_count": 68,
   "metadata": {},
   "outputs": [],
   "source": [
    "rho_lst = matrix_to_list(rho_updated)\n",
    "rhoTp = partial_transpose(rho_lst, 1)"
   ]
  },
  {
   "cell_type": "code",
   "execution_count": 70,
   "metadata": {},
   "outputs": [
    {
     "data": {
      "text/plain": [
       "0.42415157720449836"
      ]
     },
     "execution_count": 70,
     "metadata": {},
     "output_type": "execute_result"
    }
   ],
   "source": [
    "negativity(4, rhoTp)"
   ]
  },
  {
   "cell_type": "code",
   "execution_count": 158,
   "metadata": {},
   "outputs": [],
   "source": [
    "def csv_to_dict(filename, PATH):  \n",
    "    outcome = []\n",
    "    output = []\n",
    "    import csv\n",
    "    with open(PATH + filename) as csv_file:\n",
    "        csv_reader = csv.reader(csv_file, delimiter=',')\n",
    "        for row in csv_reader:\n",
    "            row = row[1:5]\n",
    "            outcome.append(row)\n",
    "\n",
    "    for i in range(1,len(outcome)):\n",
    "        for j in range(len(outcome[0])):\n",
    "            if outcome[i][j] == '':\n",
    "                outcome[i][j] = 0\n",
    "            else:    \n",
    "                outcome[i][j] = int(float(outcome[i][j]))\n",
    "        output.append(dict(zip(outcome[0], outcome[i])))\n",
    "    return output       \n",
    "        "
   ]
  },
  {
   "cell_type": "code",
   "execution_count": 172,
   "metadata": {},
   "outputs": [],
   "source": [
    "path1 =  '/Users/student/Documents/summer_research/circuit_results/project1_files/Entanglement_negativity/' "
   ]
  },
  {
   "cell_type": "code",
   "execution_count": 186,
   "metadata": {},
   "outputs": [],
   "source": [
    "#define your path1 and q.\n",
    "def ET_for_all(path):\n",
    "    ET_list = []\n",
    "    for i in range(0,8):\n",
    "        q = 1\n",
    "        raw_data = csv_to_dict(\"var_A_H&C\" + str(i)+ \".csv\", path1)\n",
    "\n",
    "        p = probability(sort_output(raw_data))\n",
    "\n",
    "        Coeff = prob_coeff(p)\n",
    "\n",
    "        den_op = rho_eq(Coeff)\n",
    "\n",
    "        lmd = pos_eigval_creater(den_op)\n",
    "        rho_with_meu = rho_updated_meu(den_op,lmd)\n",
    "\n",
    "        rho_lst = matrix_to_list(rho_with_meu)\n",
    "\n",
    "        rhoTp = partial_transpose(rho_lst, q)\n",
    "\n",
    "        ET_list.append(negativity(4, rhoTp))\n",
    "\n",
    "    return ET_list\n",
    "\n",
    "\n"
   ]
  },
  {
   "cell_type": "code",
   "execution_count": 187,
   "metadata": {},
   "outputs": [
    {
     "data": {
      "text/plain": [
       "[0.07587264862461551,\n",
       " 0.07587264862461551,\n",
       " 0.07587264862461551,\n",
       " 0.07587264862461551,\n",
       " 0.07587264862461551,\n",
       " 0.07587264862461551,\n",
       " 0.07587264862461551,\n",
       " 0.07587264862461551]"
      ]
     },
     "execution_count": 187,
     "metadata": {},
     "output_type": "execute_result"
    }
   ],
   "source": [
    "ET_for_all(path1)"
   ]
  },
  {
   "cell_type": "code",
   "execution_count": 188,
   "metadata": {},
   "outputs": [],
   "source": [
    "df = pd.DataFrame(ET_for_all(path1))\n",
    "df.to_csv(path1 +  \"ET_for_var_A_H&C.csv\")"
   ]
  },
  {
   "cell_type": "code",
   "execution_count": 185,
   "metadata": {},
   "outputs": [
    {
     "data": {
      "text/plain": [
       "[0.07587264862461551,\n",
       " 0.07587264862461551,\n",
       " 0.07587264862461551,\n",
       " 0.07587264862461551,\n",
       " 0.07587264862461551,\n",
       " 0.07587264862461551,\n",
       " 0.07587264862461551,\n",
       " 0.07587264862461551]"
      ]
     },
     "execution_count": 185,
     "metadata": {},
     "output_type": "execute_result"
    }
   ],
   "source": [
    "#define your path1 and q.\n",
    "ET_list = []\n",
    "for i in range(0,8):\n",
    "    q = 1\n",
    "    a = csv_to_dict(\"var_A_H&C\" + str(i)+ \".csv\", path1)\n",
    "\n",
    "    b = probability(sort_output(a))\n",
    "\n",
    "    c = prob_coeff(b)\n",
    "\n",
    "    d = rho_eq(c)\n",
    "\n",
    "    l = pos_eigval_creater(d)\n",
    "    e = rho_updated_meu(d,l)\n",
    "\n",
    "    f = matrix_to_list(e)\n",
    "\n",
    "    g = partial_transpose(f, q)\n",
    "\n",
    "    ET_list.append(negativity(4, g))\n",
    "    \n",
    "ET_list\n",
    "\n",
    "\n",
    "\n",
    "\n"
   ]
  },
  {
   "cell_type": "code",
   "execution_count": 170,
   "metadata": {},
   "outputs": [
    {
     "name": "stdout",
     "output_type": "stream",
     "text": [
      "var_A_H&C0.csv\n",
      "var_A_H&C1.csv\n",
      "var_A_H&C2.csv\n",
      "var_A_H&C3.csv\n",
      "var_A_H&C4.csv\n",
      "var_A_H&C5.csv\n",
      "var_A_H&C6.csv\n",
      "var_A_H&C7.csv\n"
     ]
    }
   ],
   "source": [
    "for i in range(0,8):\n",
    "    print(\"var_A_H&C\" + str(i)+ \".csv\")\n",
    "\n"
   ]
  },
  {
   "cell_type": "code",
   "execution_count": 126,
   "metadata": {},
   "outputs": [
    {
     "data": {
      "text/plain": [
       "0.07587264862461551"
      ]
     },
     "execution_count": 126,
     "metadata": {},
     "output_type": "execute_result"
    }
   ],
   "source": [
    "ET = negativity(4, rhoTp)\n",
    "ET\n",
    "\n",
    "\n"
   ]
  },
  {
   "cell_type": "code",
   "execution_count": 125,
   "metadata": {},
   "outputs": [
    {
     "data": {
      "text/plain": [
       "array([[ 0.47908931+0.00073098j, -0.35094499-0.05356258j,\n",
       "         0.22410818+0.07518791j, -0.15343509-0.09014205j],\n",
       "       [-0.35094499-0.05356258j,  0.27813105+0.08586646j,\n",
       "        -0.13093486+0.08250977j,  0.10716617-0.05850361j],\n",
       "       [ 0.22410818+0.07518791j, -0.13093486+0.08250977j,\n",
       "         0.12141687+0.07804263j, -0.07831028+0.01587959j],\n",
       "       [-0.15343509-0.09014205j,  0.10716617-0.05850361j,\n",
       "        -0.07831028+0.01587959j,  0.04539431-0.04631804j]])"
      ]
     },
     "execution_count": 125,
     "metadata": {},
     "output_type": "execute_result"
    }
   ],
   "source": [
    "rhoTp = partial_transpose(rho_lst, q)\n",
    "rhoTp\n",
    "\n"
   ]
  },
  {
   "cell_type": "code",
   "execution_count": 124,
   "metadata": {},
   "outputs": [
    {
     "data": {
      "text/plain": [
       "[(0.4790893103632011+0.0007309769341719475j),\n",
       " (-0.350944986091962-0.053562576684338316j),\n",
       " (0.22410818249587244+0.07518790763955646j),\n",
       " (-0.1309348556527424+0.08250977462279772j),\n",
       " (-0.350944986091962-0.053562576684338316j),\n",
       " (0.2781310528434206+0.08586645681159051j),\n",
       " (-0.15343509204122588-0.09014204889521917j),\n",
       " (0.1071661708134746-0.05850360980802787j),\n",
       " (0.22410818249587244+0.07518790763955646j),\n",
       " (-0.15343509204122588-0.09014204889521917j),\n",
       " (0.12141686994318804+0.0780426349999431j),\n",
       " (-0.07831027728728521+0.015879590274507294j),\n",
       " (-0.1309348556527424+0.08250977462279772j),\n",
       " (0.1071661708134746-0.05850360980802787j),\n",
       " (-0.07831027728728521+0.015879590274507294j),\n",
       " (0.04539431135853314-0.046318039647002714j)]"
      ]
     },
     "execution_count": 124,
     "metadata": {},
     "output_type": "execute_result"
    }
   ],
   "source": [
    "rho_lst = matrix_to_list(rho_with_meu)\n",
    "rho_lst"
   ]
  },
  {
   "cell_type": "code",
   "execution_count": 123,
   "metadata": {},
   "outputs": [
    {
     "data": {
      "text/plain": [
       "array([[ 0.47908931+0.00073098j, -0.35094499-0.05356258j,\n",
       "         0.22410818+0.07518791j, -0.13093486+0.08250977j],\n",
       "       [-0.35094499-0.05356258j,  0.27813105+0.08586646j,\n",
       "        -0.15343509-0.09014205j,  0.10716617-0.05850361j],\n",
       "       [ 0.22410818+0.07518791j, -0.15343509-0.09014205j,\n",
       "         0.12141687+0.07804263j, -0.07831028+0.01587959j],\n",
       "       [-0.13093486+0.08250977j,  0.10716617-0.05850361j,\n",
       "        -0.07831028+0.01587959j,  0.04539431-0.04631804j]])"
      ]
     },
     "execution_count": 123,
     "metadata": {},
     "output_type": "execute_result"
    }
   ],
   "source": [
    "rho_with_meu = rho_updated_meu(den_op,lmd)\n",
    "rho_with_meu\n",
    "\n"
   ]
  },
  {
   "cell_type": "code",
   "execution_count": 122,
   "metadata": {},
   "outputs": [
    {
     "data": {
      "text/plain": [
       "array([0.92462436, 0.03208233, 0.02614401, 0.0171493 ])"
      ]
     },
     "execution_count": 122,
     "metadata": {},
     "output_type": "execute_result"
    }
   ],
   "source": [
    "lmd = pos_eigval_creater(den_op)\n",
    "lmd"
   ]
  },
  {
   "cell_type": "code",
   "execution_count": 119,
   "metadata": {},
   "outputs": [
    {
     "data": {
      "text/plain": [
       "array([[ 0.48393179+0.j        ,  0.00649697+0.01942941j,\n",
       "         0.00137318+0.01528939j,  0.44693802-0.01198967j],\n",
       "       [ 0.00649697-0.01942941j,  0.02635678+0.j        ,\n",
       "         0.00288982-0.00178308j,  0.00616904-0.01988031j],\n",
       "       [ 0.00137318-0.01528939j,  0.00288982+0.00178308j,\n",
       "         0.02197081+0.j        , -0.00616904-0.01893753j],\n",
       "       [ 0.44693802+0.01198967j,  0.00616904+0.01988031j,\n",
       "        -0.00616904+0.01893753j,  0.46774061+0.j        ]])"
      ]
     },
     "execution_count": 119,
     "metadata": {},
     "output_type": "execute_result"
    }
   ],
   "source": [
    "den_op = rho_eq(Coefficients)\n",
    "\n",
    "den_op"
   ]
  },
  {
   "cell_type": "code",
   "execution_count": 118,
   "metadata": {},
   "outputs": [
    {
     "data": {
      "text/plain": [
       "array([ 1.00000000e+00,  6.55845221e-04, -9.83767831e-04,  1.18052140e-02,\n",
       "        1.50844401e-02,  8.99655681e-01,  2.04131825e-02, -9.59173635e-03,\n",
       "        9.18183309e-03,  2.75454993e-02, -8.88096409e-01, -7.03393999e-02,\n",
       "        2.05771438e-02,  2.53320216e-02, -7.67338908e-02,  9.03344811e-01])"
      ]
     },
     "execution_count": 118,
     "metadata": {},
     "output_type": "execute_result"
    }
   ],
   "source": [
    "Coefficients = prob_coeff(p)\n",
    "Coefficients\n"
   ]
  },
  {
   "cell_type": "code",
   "execution_count": 108,
   "metadata": {},
   "outputs": [
    {
     "data": {
      "text/plain": [
       "[[('00', 3552), ('01', 232), ('10', 176), ('11', 4172)],\n",
       " [('00', 2084), ('01', 2215), ('10', 1768), ('11', 2065)],\n",
       " [('00', 2002), ('01', 2297), ('10', 1808), ('11', 2025)],\n",
       " [('00', 2092), ('01', 1786), ('10', 2168), ('11', 2086)],\n",
       " [('00', 352), ('01', 3848), ('10', 3829), ('11', 103)],\n",
       " [('00', 2054), ('01', 2178), ('10', 2174), ('11', 1726)],\n",
       " [('00', 2070), ('01', 1815), ('10', 2148), ('11', 2099)],\n",
       " [('00', 1998), ('01', 2223), ('10', 2155), ('11', 1756)],\n",
       " [('00', 4127), ('01', 216), ('10', 177), ('11', 3612)]]"
      ]
     },
     "execution_count": 108,
     "metadata": {},
     "output_type": "execute_result"
    }
   ],
   "source": [
    "sort_output(raw_data)"
   ]
  },
  {
   "cell_type": "code",
   "execution_count": 93,
   "metadata": {},
   "outputs": [
    {
     "data": {
      "text/plain": [
       "[{'00': 3552, '11': 4172, '01': 232, '10': 176},\n",
       " {'00': 2084, '11': 2065, '01': 2215, '10': 1768},\n",
       " {'00': 2002, '11': 2025, '01': 2297, '10': 1808},\n",
       " {'00': 2092, '11': 2086, '01': 1786, '10': 2168},\n",
       " {'00': 352, '11': 103, '01': 3848, '10': 3829},\n",
       " {'00': 2054, '11': 1726, '01': 2178, '10': 2174},\n",
       " {'00': 2070, '11': 2099, '01': 1815, '10': 2148},\n",
       " {'00': 1998, '11': 1756, '01': 2223, '10': 2155},\n",
       " {'00': 4127, '11': 3612, '01': 216, '10': 177}]"
      ]
     },
     "execution_count": 93,
     "metadata": {},
     "output_type": "execute_result"
    }
   ],
   "source": [
    "raw_data"
   ]
  },
  {
   "cell_type": "code",
   "execution_count": 168,
   "metadata": {},
   "outputs": [],
   "source": [
    "raw_data = csv_to_dict(\"var_A_H&C\" + str(1)+ \".csv\", path1)\n",
    "\n"
   ]
  },
  {
   "cell_type": "code",
   "execution_count": 180,
   "metadata": {},
   "outputs": [
    {
     "data": {
      "text/plain": [
       "[{'00': 3683, '11': 4011, '01': 225, '10': 213},\n",
       " {'00': 2093, '11': 2107, '01': 2095, '10': 1837},\n",
       " {'00': 2010, '11': 2070, '01': 2225, '10': 1827},\n",
       " {'00': 2084, '11': 2069, '01': 1826, '10': 2153},\n",
       " {'00': 344, '11': 73, '01': 3938, '10': 3777},\n",
       " {'00': 2077, '11': 1800, '01': 2116, '10': 2139},\n",
       " {'00': 2074, '11': 2084, '01': 1827, '10': 2147},\n",
       " {'00': 2084, '11': 1820, '01': 2102, '10': 2126},\n",
       " {'00': 4101, '11': 3656, '01': 212, '10': 163}]"
      ]
     },
     "execution_count": 180,
     "metadata": {},
     "output_type": "execute_result"
    }
   ],
   "source": [
    "raw_data"
   ]
  }
 ],
 "metadata": {
  "kernelspec": {
   "display_name": "Python 3",
   "language": "python",
   "name": "python3"
  },
  "language_info": {
   "codemirror_mode": {
    "name": "ipython",
    "version": 3
   },
   "file_extension": ".py",
   "mimetype": "text/x-python",
   "name": "python",
   "nbconvert_exporter": "python",
   "pygments_lexer": "ipython3",
   "version": "3.7.6"
  }
 },
 "nbformat": 4,
 "nbformat_minor": 4
}
