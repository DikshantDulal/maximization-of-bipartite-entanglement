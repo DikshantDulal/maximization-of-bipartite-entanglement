{
 "cells": [
  {
   "cell_type": "code",
   "execution_count": 1,
   "metadata": {},
   "outputs": [],
   "source": [
    "from qiskit import QuantumCircuit, ClassicalRegister, QuantumRegister\n",
    "from qiskit import IBMQ\n",
    "import qiskit\n",
    "import random\n",
    "import pandas as pd\n",
    "import numpy as np \n",
    "from qiskit.providers.ibmq import IBMQJob\n",
    "from qiskit.providers.ibmq.job import job_monitor\n",
    "\n",
    "\n",
    "\n",
    "\n",
    "\n"
   ]
  },
  {
   "cell_type": "code",
   "execution_count": 2,
   "metadata": {},
   "outputs": [
    {
     "name": "stderr",
     "output_type": "stream",
     "text": [
      "configrc.store_credentials:WARNING:2020-11-03 10:18:41,213: Credentials already present. Set overwrite=True to overwrite.\n"
     ]
    }
   ],
   "source": [
    "IBMQ.save_account('e16aff0cd0c88a64f3123ca8f2417390e7c73433dbc8b7d872ff853bd6045d642d2230ed0b26ee080c6947f2c924fa031339b76ecd79c0b96eb9b6c08184230d')"
   ]
  },
  {
   "cell_type": "code",
   "execution_count": 3,
   "metadata": {},
   "outputs": [
    {
     "data": {
      "text/plain": [
       "[<IBMQSimulator('ibmq_qasm_simulator') from IBMQ(hub='ibm-q', group='open', project='main')>,\n",
       " <IBMQBackend('ibmqx2') from IBMQ(hub='ibm-q', group='open', project='main')>,\n",
       " <IBMQBackend('ibmq_16_melbourne') from IBMQ(hub='ibm-q', group='open', project='main')>,\n",
       " <IBMQBackend('ibmq_vigo') from IBMQ(hub='ibm-q', group='open', project='main')>,\n",
       " <IBMQBackend('ibmq_ourense') from IBMQ(hub='ibm-q', group='open', project='main')>,\n",
       " <IBMQBackend('ibmq_valencia') from IBMQ(hub='ibm-q', group='open', project='main')>,\n",
       " <IBMQBackend('ibmq_armonk') from IBMQ(hub='ibm-q', group='open', project='main')>,\n",
       " <IBMQBackend('ibmq_athens') from IBMQ(hub='ibm-q', group='open', project='main')>,\n",
       " <IBMQBackend('ibmq_santiago') from IBMQ(hub='ibm-q', group='open', project='main')>]"
      ]
     },
     "execution_count": 3,
     "metadata": {},
     "output_type": "execute_result"
    }
   ],
   "source": [
    "IBMQ.load_account()\n",
    "IBMQ.providers()\n",
    "provider = IBMQ.get_provider()\n",
    "provider.backends()"
   ]
  },
  {
   "cell_type": "code",
   "execution_count": 4,
   "metadata": {},
   "outputs": [],
   "source": [
    "api = 'e16aff0cd0c88a64f3123ca8f2417390e7c73433dbc8b7d872ff853bd6045d642d2230ed0b26ee080c6947f2c924fa031339b76ecd79c0b96eb9b6c08184230d'"
   ]
  },
  {
   "cell_type": "code",
   "execution_count": 5,
   "metadata": {},
   "outputs": [],
   "source": [
    "import numpy as np\n",
    "\n",
    "\n",
    "def Pauli(j):\n",
    "    if j == 0:\n",
    "        return np.array([[1, 0], [0, 1]])\n",
    "    elif j == 1:\n",
    "        return np.array([[0, 1], [1, 0]])\n",
    "    elif j == 2:\n",
    "        return np.array([[0, -1j], [1j, 0]])\n",
    "    elif j == 3:\n",
    "        return np.array([[1, 0], [0, -1]])\n",
    "\n",
    "\n"
   ]
  },
  {
   "cell_type": "code",
   "execution_count": 6,
   "metadata": {},
   "outputs": [],
   "source": [
    "def trace(A):\n",
    "    tr = 0\n",
    "    for i in range(len(A)):\n",
    "        tr+= A[i][i] \n",
    "    return(tr)\n",
    "\n"
   ]
  },
  {
   "cell_type": "code",
   "execution_count": 7,
   "metadata": {},
   "outputs": [],
   "source": [
    "def normTr(d, A):\n",
    "    ev = np.linalg.eigvalsh(A)\n",
    "    Ntr = 0\n",
    "    for j in range(0, d):\n",
    "        Ntr += abs(ev[j]) #calculate the sum of all absolute values \n",
    "    return Ntr"
   ]
  },
  {
   "cell_type": "code",
   "execution_count": 8,
   "metadata": {},
   "outputs": [],
   "source": [
    "def negativity(d, rhoTp):\n",
    "    En = 0.5*(normTr(d, rhoTp) - 1.0)\n",
    "    return En\n",
    "\n",
    "\n",
    "\n"
   ]
  },
  {
   "cell_type": "code",
   "execution_count": 9,
   "metadata": {},
   "outputs": [],
   "source": [
    "#maximizing a  bell state:\n",
    "#This cell makes measurements in x,y,and z bases \n",
    "\n",
    "\n",
    "#variation_A_Hadamard_and_CNOT\n",
    "\n",
    "#n is number of qubits\n",
    "n = 2\n",
    "q = QuantumRegister(2, 'q')\n",
    "c = ClassicalRegister(2, 'c')\n",
    "qc = []\n",
    "\n",
    "for i in range(3**n):\n",
    "    qc.append(QuantumCircuit(q, c))\n",
    "    qc[i].h(0)\n",
    "    qc[i].cx(0,1)\n",
    "    \n",
    "    \n",
    "\n",
    "\n",
    "count = 0 #count refers to the total number of circuits.\n",
    "for i in range(3):\n",
    "    for j in range(3):\n",
    "        if i == 0: \n",
    "            qc[count].h(0)\n",
    "        elif i == 1:\n",
    "            qc[count].s(0).inverse()\n",
    "            qc[count].h(0)\n",
    "        if j == 0:\n",
    "            qc[count].h(1)\n",
    "        elif j == 1:\n",
    "            qc[count].s(1).inverse()\n",
    "            qc[count].h(1)\n",
    "        count += 1\n",
    "        \n",
    "for i in range(3**n):\n",
    "    qc[i].measure(q,c)\n",
    "\n",
    "  \n",
    "\n"
   ]
  },
  {
   "cell_type": "code",
   "execution_count": 10,
   "metadata": {},
   "outputs": [
    {
     "data": {
      "image/png": "[encoded data removed]",
      "text/plain": [
       "<Figure size 479.192x204.68 with 1 Axes>"
      ]
     },
     "execution_count": 10,
     "metadata": {},
     "output_type": "execute_result"
    }
   ],
   "source": [
    "qc[0].draw(output = 'mpl')"
   ]
  },
  {
   "cell_type": "code",
   "execution_count": 11,
   "metadata": {},
   "outputs": [
    {
     "data": {
      "text/plain": [
       "[<qiskit.circuit.quantumcircuit.QuantumCircuit at 0x1a1cc2a350>,\n",
       " <qiskit.circuit.quantumcircuit.QuantumCircuit at 0x1a203faa10>,\n",
       " <qiskit.circuit.quantumcircuit.QuantumCircuit at 0x1a203fab50>,\n",
       " <qiskit.circuit.quantumcircuit.QuantumCircuit at 0x1a203fac90>,\n",
       " <qiskit.circuit.quantumcircuit.QuantumCircuit at 0x1a203fadd0>,\n",
       " <qiskit.circuit.quantumcircuit.QuantumCircuit at 0x1a203faf50>,\n",
       " <qiskit.circuit.quantumcircuit.QuantumCircuit at 0x1a204140d0>,\n",
       " <qiskit.circuit.quantumcircuit.QuantumCircuit at 0x1a204141d0>,\n",
       " <qiskit.circuit.quantumcircuit.QuantumCircuit at 0x1a20414310>]"
      ]
     },
     "execution_count": 11,
     "metadata": {},
     "output_type": "execute_result"
    }
   ],
   "source": [
    "qc"
   ]
  },
  {
   "cell_type": "code",
   "execution_count": 12,
   "metadata": {},
   "outputs": [],
   "source": [
    "path = '/Users/student/Documents/summer_research/circuit_results/project1_files/ET_var_B/'"
   ]
  },
  {
   "cell_type": "code",
   "execution_count": 13,
   "metadata": {},
   "outputs": [
    {
     "name": "stdout",
     "output_type": "stream",
     "text": [
      "0\n",
      "Job Status: job has successfully run                        \n",
      "1\n",
      "Job Status: job has successfully run                  \n",
      "2\n",
      "Job Status: job has successfully run                     \n",
      "3\n",
      "Job Status: job has successfully run                          \n",
      "4\n",
      "Job Status: job has successfully run\n"
     ]
    }
   ],
   "source": [
    "backend = provider.get_backend('ibmq_valencia')\n",
    "output = []\n",
    "n = 5 # total number of circuits for each number of identity gates. \n",
    "for i in range(n):\n",
    "    job_exp = qiskit.execute(qc,backend=backend,shots = 8132)\n",
    "    print(i)\n",
    "    job_monitor(job_exp)\n",
    "    output = job_exp.result().get_counts()\n",
    "    df = pd.DataFrame(output)\n",
    "    df.to_csv(path  + \"var_B_H&C\" + str(i)+ \".csv\") ##variation_A_Hadamard_and_CNOT\n",
    "\n",
    "\n",
    "    \n",
    "\n",
    "\n",
    "\n",
    "\n",
    "\n",
    "\n",
    "\n",
    "\n"
   ]
  },
  {
   "cell_type": "code",
   "execution_count": null,
   "metadata": {},
   "outputs": [],
   "source": []
  },
  {
   "cell_type": "markdown",
   "metadata": {},
   "source": [
    "#Automation planning:\n",
    "1) Place id_gates in 5 positions of the circuit\n",
    "2) write a code that does this in a single run. \n"
   ]
  },
  {
   "cell_type": "code",
   "execution_count": 37,
   "metadata": {},
   "outputs": [],
   "source": [
    "#sorts the output based on tuples\n",
    "\n",
    "def sort_output(data):\n",
    "    sorted_output = []\n",
    "    for i in range(len(data)):\n",
    "        sorted_output.append(sorted(data[i].items()))\n",
    "    return(sorted_output)\n",
    "\n",
    "\n"
   ]
  },
  {
   "cell_type": "code",
   "execution_count": 38,
   "metadata": {},
   "outputs": [],
   "source": [
    "#takes the probabilities from the sorted_output and gives an array in sorted order.\n",
    "def probability(sorted_output):\n",
    "    ns = 8132\n",
    "    values = []\n",
    "    for i in range(len(sorted_output)):\n",
    "        for j in range(4):\n",
    "            values.append(sorted_output[i][j][1]/ns)\n",
    "    p = np.array(values)\n",
    "    p\n",
    "    return(p)\n",
    "    "
   ]
  },
  {
   "cell_type": "code",
   "execution_count": 39,
   "metadata": {
    "scrolled": true
   },
   "outputs": [],
   "source": [
    "#density operator reconstruction begins here. \n",
    "#Outputs probability coefficient using probability from IBM Q as input\n",
    "\n",
    "def prob_coeff(p):\n",
    "    d1 = np.eye(4)\n",
    "    ab = [1, -1]\n",
    "    A = []\n",
    "    for i in range(1,4):\n",
    "        for j in range(1,4):\n",
    "            for a in ab :\n",
    "                for b in ab :\n",
    "                    B = []\n",
    "                    for al in range(4):\n",
    "                        for be in range(4):\n",
    "                            mat = (d1[al][0] + a* d1[al][i]) * (d1[be][0] + b* d1[be][j])/4\n",
    "                            #mat = (int(d0[al]) + a* int(d1[i][al])) * (int(d0[be]) + b*int(d1[j][be]))/4 \n",
    "                            B.append(mat)\n",
    "                    A.append(B) #We append our matrix here because we need 16 different elements of c_s so that we don't need to reshape\n",
    "    M = np.array(A, dtype = float)\n",
    "    M_inv = np.linalg.pinv(M)\n",
    "    C = np.matmul(M_inv, p)\n",
    "    return(C)\n"
   ]
  },
  {
   "cell_type": "markdown",
   "metadata": {},
   "source": [
    "#This is the rho equation which takes the prob coefficients (C) as its input\n",
    "def rho_eq(C):\n",
    "    B = []\n",
    "    d = 0\n",
    "    for al in range(4):\n",
    "        for be in range(4):\n",
    "            rho_q2 = C[d] * np.kron(Pauli(al),Pauli(be))/4\n",
    "            d = d + 1\n",
    "            B.append(rho_q2)\n",
    "    \n",
    "    \n",
    "    return(B)\n",
    "\n",
    "rho = np.zeros((4,4))\n",
    "for i in range(len(B)):\n",
    "    rho = rho + B[i]\n",
    "rho\n",
    "\n",
    "#We combine these two parts to create the function below. \n",
    "\n",
    "\n"
   ]
  },
  {
   "cell_type": "code",
   "execution_count": 40,
   "metadata": {},
   "outputs": [],
   "source": [
    "#This is the rho equation which takes the prob coefficients (C) as its input and returns the reconstructed density operator\n",
    "def rho_eq(C):\n",
    "    B = []\n",
    "    d = 0\n",
    "    rho = np.zeros((4,4))\n",
    "    for al in range(4):\n",
    "        for be in range(4):\n",
    "            rho_q2 = C[d] * np.kron(Pauli(al),Pauli(be))/4\n",
    "            d = d + 1\n",
    "            B.append(rho_q2)\n",
    "        \n",
    "    for i in range(len(B)):\n",
    "        rho = rho + B[i]\n",
    "    return(rho)\n",
    "\n",
    "\n",
    "\n",
    "\n",
    "\n"
   ]
  },
  {
   "cell_type": "code",
   "execution_count": 41,
   "metadata": {},
   "outputs": [],
   "source": [
    "#takes the reconstructed density operator as its input and changes the list with negative eigenvalues to positive.\n",
    "def pos_eigval_creater(den_op):\n",
    "    a = 0\n",
    "    eigval = np.linalg.eigvalsh(den_op)\n",
    "    meu = sorted(eigval, reverse = True)\n",
    "    lmd = np.zeros(len(meu))\n",
    "    count = 0\n",
    "    for i in reversed(range(len(meu))) :\n",
    "        if (meu[i].real + a/(i+1)) < 0:\n",
    "            lmd[i] = 0\n",
    "            a += lmd[i] + meu[i]\n",
    "            lmd[i-1] = meu[i-1].real + a\n",
    "            count = count + 1\n",
    "\n",
    "        else:\n",
    "            lmd[i] = meu[i].real + a/(count+1)\n",
    "    return(lmd)\n",
    "        "
   ]
  },
  {
   "cell_type": "code",
   "execution_count": 42,
   "metadata": {},
   "outputs": [],
   "source": [
    "#This function takes our reconstructed density operator and updates it with new eigenvalues \n",
    "def rho_updated_meu(den_op,lmd): #lmd is the new eigenvalue which is the output of  pos_eigval_creater(rho)\n",
    "    n = 2\n",
    "    matrix = np.zeros((2**n,2**n))\n",
    "    eigval, eigvecs = np.linalg.eig(den_op)\n",
    "    for i in range(len(lmd)):\n",
    "        matrix = matrix + lmd[i]* np.outer(eigvecs[i] , eigvecs[i])\n",
    "    return(matrix)\n",
    "\n"
   ]
  },
  {
   "cell_type": "code",
   "execution_count": 43,
   "metadata": {},
   "outputs": [],
   "source": [
    "def matrix_to_list(rho):\n",
    "    rho_list = []\n",
    "    for i in range(len(rho)):\n",
    "        for j in range(len(rho[0])):\n",
    "            rho_list.append(rho[i][j])\n",
    "    return(rho_list)\n",
    "\n"
   ]
  },
  {
   "cell_type": "code",
   "execution_count": 44,
   "metadata": {},
   "outputs": [],
   "source": [
    "def partial_transpose(rho_lst, q):#This function computes the partial transpose of a matrix. \n",
    "    z = np.array([1,0])\n",
    "    o = np.array([0,1])\n",
    "    lst = [z,o]\n",
    "    M = np.zeros((4,4))\n",
    "    dd = 0\n",
    "    for i in lst:\n",
    "        for j in lst:\n",
    "            for i1 in lst:\n",
    "                for j1 in lst:\n",
    "                    if q == 0:\n",
    "                        M = M + rho_lst[dd] * np.kron(np.outer(i1,i),np.outer(j,j1))\n",
    "                    elif q == 1:\n",
    "                        M = M + rho_lst[dd] * np.kron(np.outer(i,i1),np.outer(j1,j))\n",
    "                    dd = dd + 1\n",
    "    return(M)               \n",
    "                "
   ]
  },
  {
   "cell_type": "code",
   "execution_count": 45,
   "metadata": {},
   "outputs": [],
   "source": [
    "#How do I incorporate new eigenvalues to the density operator "
   ]
  },
  {
   "cell_type": "code",
   "execution_count": 46,
   "metadata": {},
   "outputs": [],
   "source": [
    "def csv_to_dict(filename, PATH):  \n",
    "    outcome = []\n",
    "    output = []\n",
    "    import csv\n",
    "    with open(PATH + filename) as csv_file:\n",
    "        csv_reader = csv.reader(csv_file, delimiter=',')\n",
    "        for row in csv_reader:\n",
    "            row = row[1:5]\n",
    "            outcome.append(row)\n",
    "\n",
    "    for i in range(1,len(outcome)):\n",
    "        for j in range(len(outcome[0])):\n",
    "            if outcome[i][j] == '':\n",
    "                outcome[i][j] = 0\n",
    "            else:    \n",
    "                outcome[i][j] = int(float(outcome[i][j]))\n",
    "        output.append(dict(zip(outcome[0], outcome[i])))\n",
    "    return output       \n",
    "        "
   ]
  },
  {
   "cell_type": "code",
   "execution_count": 47,
   "metadata": {},
   "outputs": [],
   "source": [
    "path1 =  '/Users/student/Documents/summer_research/circuit_results/project1_files/ET_var_B/' "
   ]
  },
  {
   "cell_type": "code",
   "execution_count": 48,
   "metadata": {},
   "outputs": [
    {
     "data": {
      "text/plain": [
       "[[{'01': 409, '00': 3921, '10': 169, '11': 3633},\n",
       "  {'01': 2238, '00': 2268, '10': 1825, '11': 1801},\n",
       "  {'01': 2300, '00': 2107, '10': 1901, '11': 1824},\n",
       "  {'01': 2087, '00': 2135, '10': 2034, '11': 1876},\n",
       "  {'01': 3904, '00': 532, '10': 3599, '11': 97},\n",
       "  {'01': 2194, '00': 2200, '10': 1941, '11': 1797},\n",
       "  {'01': 2060, '00': 2241, '10': 1902, '11': 1929},\n",
       "  {'01': 2263, '00': 2178, '10': 1953, '11': 1738},\n",
       "  {'01': 411, '00': 3985, '10': 164, '11': 3572}],\n",
       " [{'01': 441, '00': 3913, '10': 132, '11': 3646},\n",
       "  {'01': 2207, '00': 2246, '10': 1842, '11': 1837},\n",
       "  {'01': 2200, '00': 2163, '10': 1839, '11': 1930},\n",
       "  {'01': 2175, '00': 2193, '10': 1977, '11': 1787},\n",
       "  {'01': 3919, '00': 503, '10': 3637, '11': 73},\n",
       "  {'01': 2214, '00': 2173, '10': 1941, '11': 1804},\n",
       "  {'01': 2117, '00': 2244, '10': 1905, '11': 1866},\n",
       "  {'01': 2283, '00': 2237, '10': 1919, '11': 1693},\n",
       "  {'01': 430, '00': 4047, '10': 132, '11': 3523}],\n",
       " [{'01': 437, '00': 3876, '10': 162, '11': 3657},\n",
       "  {'01': 2212, '00': 2199, '10': 1888, '11': 1833},\n",
       "  {'01': 2247, '00': 2148, '10': 1872, '11': 1865},\n",
       "  {'01': 2128, '00': 2181, '10': 1964, '11': 1859},\n",
       "  {'01': 3858, '00': 566, '10': 3640, '11': 68},\n",
       "  {'01': 2206, '00': 2199, '10': 1992, '11': 1735},\n",
       "  {'01': 2095, '00': 2183, '10': 1897, '11': 1957},\n",
       "  {'01': 2185, '00': 2184, '10': 2018, '11': 1745},\n",
       "  {'01': 437, '00': 4046, '10': 150, '11': 3499}],\n",
       " [{'01': 432, '00': 3963, '10': 132, '11': 3605},\n",
       "  {'01': 2251, '00': 2163, '10': 1897, '11': 1821},\n",
       "  {'01': 2210, '00': 2223, '10': 1904, '11': 1795},\n",
       "  {'01': 2186, '00': 2173, '10': 1971, '11': 1802},\n",
       "  {'01': 4007, '00': 530, '10': 3536, '11': 59},\n",
       "  {'01': 2258, '00': 2201, '10': 1946, '11': 1727},\n",
       "  {'01': 2130, '00': 2247, '10': 1899, '11': 1856},\n",
       "  {'01': 2219, '00': 2269, '10': 1861, '11': 1783},\n",
       "  {'01': 403, '00': 4074, '10': 127, '11': 3528}],\n",
       " [{'01': 412, '00': 3994, '10': 125, '11': 3601},\n",
       "  {'01': 2239, '00': 2181, '10': 1970, '11': 1742},\n",
       "  {'01': 2219, '00': 2202, '10': 1859, '11': 1852},\n",
       "  {'01': 2163, '00': 2205, '10': 1970, '11': 1794},\n",
       "  {'01': 3898, '00': 543, '10': 3629, '11': 62},\n",
       "  {'01': 2226, '00': 2112, '10': 1994, '11': 1800},\n",
       "  {'01': 2096, '00': 2230, '10': 1887, '11': 1919},\n",
       "  {'01': 2229, '00': 2272, '10': 1862, '11': 1769},\n",
       "  {'01': 451, '00': 4028, '10': 108, '11': 3545}]]"
      ]
     },
     "execution_count": 48,
     "metadata": {},
     "output_type": "execute_result"
    }
   ],
   "source": [
    "x = []\n",
    "for i in range(5):\n",
    "    raw_data = csv_to_dict(\"var_B_H&C\" + str(i)+ \".csv\", path)\n",
    "    x.append(raw_data)\n",
    "    \n",
    "x"
   ]
  },
  {
   "cell_type": "code",
   "execution_count": 49,
   "metadata": {},
   "outputs": [],
   "source": [
    "#define your path1 and q.\n",
    "def ET_for_all(path):\n",
    "    ET_list = []\n",
    "    for i in range(0,5):\n",
    "        q = 1\n",
    "        raw_data = csv_to_dict(\"var_B_H&C\" + str(i)+ \".csv\", path)\n",
    "\n",
    "        p = probability(sort_output(raw_data))\n",
    "\n",
    "        Coeff = prob_coeff(p)\n",
    "\n",
    "        den_op = rho_eq(Coeff)\n",
    "\n",
    "        lmd = pos_eigval_creater(den_op)\n",
    "        rho_with_meu = rho_updated_meu(den_op,lmd)\n",
    "\n",
    "        rho_lst = matrix_to_list(rho_with_meu)\n",
    "\n",
    "        rhoTp = partial_transpose(rho_lst, q)\n",
    "\n",
    "        ET_list.append(negativity(4, rhoTp))\n",
    "\n",
    "    return ET_list\n",
    "\n",
    "\n"
   ]
  },
  {
   "cell_type": "code",
   "execution_count": 53,
   "metadata": {},
   "outputs": [
    {
     "data": {
      "text/plain": [
       "[0.22717115878989247,\n",
       " 0.25382164553596476,\n",
       " 0.21398170881493117,\n",
       " 0.15238483747648124,\n",
       " 0.20413509099098803]"
      ]
     },
     "execution_count": 53,
     "metadata": {},
     "output_type": "execute_result"
    }
   ],
   "source": [
    "out = ET_for_all(path1)\n",
    "out"
   ]
  },
  {
   "cell_type": "code",
   "execution_count": 54,
   "metadata": {},
   "outputs": [
    {
     "data": {
      "text/plain": [
       "(0.15238483747648124, 0.25382164553596476, 0.21029888832165153)"
      ]
     },
     "execution_count": 54,
     "metadata": {},
     "output_type": "execute_result"
    }
   ],
   "source": [
    "min(out),max(out),np.mean(out)"
   ]
  },
  {
   "cell_type": "code",
   "execution_count": 51,
   "metadata": {},
   "outputs": [],
   "source": [
    "df = pd.DataFrame(ET_for_all(path1))\n",
    "df.to_csv(path1 +  \"ET_var_A.csv\")"
   ]
  },
  {
   "cell_type": "code",
   "execution_count": 56,
   "metadata": {},
   "outputs": [
    {
     "data": {
      "text/plain": [
       "[{'01': 409, '00': 3921, '10': 169, '11': 3633},\n",
       " {'01': 2238, '00': 2268, '10': 1825, '11': 1801},\n",
       " {'01': 2300, '00': 2107, '10': 1901, '11': 1824},\n",
       " {'01': 2087, '00': 2135, '10': 2034, '11': 1876},\n",
       " {'01': 3904, '00': 532, '10': 3599, '11': 97},\n",
       " {'01': 2194, '00': 2200, '10': 1941, '11': 1797},\n",
       " {'01': 2060, '00': 2241, '10': 1902, '11': 1929},\n",
       " {'01': 2263, '00': 2178, '10': 1953, '11': 1738},\n",
       " {'01': 411, '00': 3985, '10': 164, '11': 3572}]"
      ]
     },
     "execution_count": 56,
     "metadata": {},
     "output_type": "execute_result"
    }
   ],
   "source": [
    "raw_data1 = csv_to_dict(\"var_B_H&C\" + str(0)+ \".csv\", path1)\n",
    "raw_data1\n",
    "\n"
   ]
  },
  {
   "cell_type": "code",
   "execution_count": 35,
   "metadata": {},
   "outputs": [
    {
     "data": {
      "text/plain": [
       "[{'01': 437, '00': 3876, '10': 162, '11': 3657},\n",
       " {'01': 2212, '00': 2199, '10': 1888, '11': 1833},\n",
       " {'01': 2247, '00': 2148, '10': 1872, '11': 1865},\n",
       " {'01': 2128, '00': 2181, '10': 1964, '11': 1859},\n",
       " {'01': 3858, '00': 566, '10': 3640, '11': 68},\n",
       " {'01': 2206, '00': 2199, '10': 1992, '11': 1735},\n",
       " {'01': 2095, '00': 2183, '10': 1897, '11': 1957},\n",
       " {'01': 2185, '00': 2184, '10': 2018, '11': 1745},\n",
       " {'01': 437, '00': 4046, '10': 150, '11': 3499}]"
      ]
     },
     "execution_count": 35,
     "metadata": {},
     "output_type": "execute_result"
    }
   ],
   "source": [
    "raw_data1 = csv_to_dict(\"var_B_H&C\" + str(2)+ \".csv\", path1)\n",
    "raw_data1\n",
    "\n",
    "\n"
   ]
  },
  {
   "cell_type": "code",
   "execution_count": 60,
   "metadata": {},
   "outputs": [
    {
     "data": {
      "text/plain": [
       "array([[ 0.48596081+0.j        ,  0.0105755 +0.00600508j,\n",
       "         0.0131169 -0.01326037j,  0.42578701+0.00319725j],\n",
       "       [ 0.0105755 -0.00600508j,  0.05257009+0.j        ,\n",
       "         0.00313576+0.00356616j,  0.02971799-0.02174537j],\n",
       "       [ 0.0131169 +0.01326037j,  0.00313576-0.00356616j,\n",
       "         0.01813822+0.j        , -0.00221348-0.01244056j],\n",
       "       [ 0.42578701-0.00319725j,  0.02971799+0.02174537j,\n",
       "        -0.00221348+0.01244056j,  0.44333087+0.j        ]])"
      ]
     },
     "execution_count": 60,
     "metadata": {},
     "output_type": "execute_result"
    }
   ],
   "source": [
    "den_op1"
   ]
  },
  {
   "cell_type": "code",
   "execution_count": 65,
   "metadata": {},
   "outputs": [
    {
     "data": {
      "text/plain": [
       "array([0.00377199, 0.03425628, 0.06953239, 0.89243934])"
      ]
     },
     "execution_count": 65,
     "metadata": {},
     "output_type": "execute_result"
    }
   ],
   "source": [
    "eigval = np.linalg.eigvalsh(den_op1)\n",
    "eigval"
   ]
  },
  {
   "cell_type": "code",
   "execution_count": 61,
   "metadata": {},
   "outputs": [
    {
     "data": {
      "text/plain": [
       "array([0.89243934, 0.06953239, 0.03425628, 0.00377199])"
      ]
     },
     "execution_count": 61,
     "metadata": {},
     "output_type": "execute_result"
    }
   ],
   "source": [
    "lmd1"
   ]
  },
  {
   "cell_type": "code",
   "execution_count": 59,
   "metadata": {},
   "outputs": [
    {
     "data": {
      "text/plain": [
       "array([[ 0.46889395-1.31941758e-04j, -0.21600906-1.96155853e-01j,\n",
       "        -0.13944726+2.10856749e-01j,  0.15021653+1.59271929e-01j],\n",
       "       [-0.21600906-1.96155853e-01j,  0.05223701+1.81907871e-01j,\n",
       "         0.1563355 -4.09464075e-02j,  0.03631821-1.36283368e-01j],\n",
       "       [-0.13944726+2.10856749e-01j,  0.1563355 -4.09464075e-02j,\n",
       "        -0.03311116-1.28218317e-01j, -0.12139419+4.04343169e-02j],\n",
       "       [ 0.15021653+1.59271929e-01j,  0.03631821-1.36283368e-01j,\n",
       "        -0.12139419+4.04343169e-02j,  0.01691404+1.01261382e-01j]])"
      ]
     },
     "execution_count": 59,
     "metadata": {},
     "output_type": "execute_result"
    }
   ],
   "source": [
    "probability(sort_output(raw_data1))\n",
    "Coeff1 = prob_coeff(probability(sort_output(raw_data1)))\n",
    "den_op1 = rho_eq(Coeff1)\n",
    "lmd1= pos_eigval_creater(den_op1)\n",
    "rho_with_meu1 = rho_updated_meu(den_op1,lmd1)\n",
    "\n",
    "rho_with_meu1\n",
    "\n",
    "\n",
    "\n",
    "\n",
    "\n",
    "\n"
   ]
  },
  {
   "cell_type": "code",
   "execution_count": null,
   "metadata": {},
   "outputs": [],
   "source": [
    "1/2[(1,0,0,1,),(0,0,0,)]"
   ]
  }
 ],
 "metadata": {
  "kernelspec": {
   "display_name": "Python 3",
   "language": "python",
   "name": "python3"
  },
  "language_info": {
   "codemirror_mode": {
    "name": "ipython",
    "version": 3
   },
   "file_extension": ".py",
   "mimetype": "text/x-python",
   "name": "python",
   "nbconvert_exporter": "python",
   "pygments_lexer": "ipython3",
   "version": "3.7.6"
  }
 },
 "nbformat": 4,
 "nbformat_minor": 4
}
