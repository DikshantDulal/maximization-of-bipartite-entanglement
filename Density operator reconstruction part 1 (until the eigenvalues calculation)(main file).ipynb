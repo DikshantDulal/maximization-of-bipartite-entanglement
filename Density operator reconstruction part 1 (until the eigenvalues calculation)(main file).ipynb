{
 "cells": [
  {
   "cell_type": "code",
   "execution_count": 1,
   "metadata": {},
   "outputs": [],
   "source": [
    "from qiskit import QuantumCircuit, ClassicalRegister, QuantumRegister\n",
    "from qiskit import IBMQ\n",
    "import qiskit\n",
    "import random\n",
    "import pandas as pd\n",
    "import numpy as np \n",
    "from qiskit.providers.ibmq import IBMQJob\n",
    "from qiskit.providers.ibmq.job import job_monitor\n",
    "\n",
    "\n",
    "\n",
    "\n",
    "\n"
   ]
  },
  {
   "cell_type": "code",
   "execution_count": 2,
   "metadata": {},
   "outputs": [
    {
     "name": "stderr",
     "output_type": "stream",
     "text": [
      "configrc.store_credentials:WARNING:2020-11-01 10:54:04,716: Credentials already present. Set overwrite=True to overwrite.\n"
     ]
    }
   ],
   "source": [
    "IBMQ.save_account('e16aff0cd0c88a64f3123ca8f2417390e7c73433dbc8b7d872ff853bd6045d642d2230ed0b26ee080c6947f2c924fa031339b76ecd79c0b96eb9b6c08184230d')"
   ]
  },
  {
   "cell_type": "code",
   "execution_count": 3,
   "metadata": {},
   "outputs": [
    {
     "data": {
      "text/plain": [
       "[<IBMQSimulator('ibmq_qasm_simulator') from IBMQ(hub='ibm-q', group='open', project='main')>,\n",
       " <IBMQBackend('ibmqx2') from IBMQ(hub='ibm-q', group='open', project='main')>,\n",
       " <IBMQBackend('ibmq_16_melbourne') from IBMQ(hub='ibm-q', group='open', project='main')>,\n",
       " <IBMQBackend('ibmq_vigo') from IBMQ(hub='ibm-q', group='open', project='main')>,\n",
       " <IBMQBackend('ibmq_ourense') from IBMQ(hub='ibm-q', group='open', project='main')>,\n",
       " <IBMQBackend('ibmq_valencia') from IBMQ(hub='ibm-q', group='open', project='main')>,\n",
       " <IBMQBackend('ibmq_armonk') from IBMQ(hub='ibm-q', group='open', project='main')>,\n",
       " <IBMQBackend('ibmq_athens') from IBMQ(hub='ibm-q', group='open', project='main')>,\n",
       " <IBMQBackend('ibmq_santiago') from IBMQ(hub='ibm-q', group='open', project='main')>]"
      ]
     },
     "execution_count": 3,
     "metadata": {},
     "output_type": "execute_result"
    }
   ],
   "source": [
    "IBMQ.load_account()\n",
    "IBMQ.providers()\n",
    "provider = IBMQ.get_provider()\n",
    "provider.backends()"
   ]
  },
  {
   "cell_type": "code",
   "execution_count": 4,
   "metadata": {},
   "outputs": [],
   "source": [
    "api = 'e16aff0cd0c88a64f3123ca8f2417390e7c73433dbc8b7d872ff853bd6045d642d2230ed0b26ee080c6947f2c924fa031339b76ecd79c0b96eb9b6c08184230d'"
   ]
  },
  {
   "cell_type": "code",
   "execution_count": 5,
   "metadata": {},
   "outputs": [],
   "source": [
    "import numpy as np\n",
    "\n",
    "\n",
    "def Pauli(j):\n",
    "    if j == 0:\n",
    "        return np.array([[1, 0], [0, 1]])\n",
    "    elif j == 1:\n",
    "        return np.array([[0, 1], [1, 0]])\n",
    "    elif j == 2:\n",
    "        return np.array([[0, -1j], [1j, 0]])\n",
    "    elif j == 3:\n",
    "        return np.array([[1, 0], [0, -1]])\n",
    "\n",
    "\n"
   ]
  },
  {
   "cell_type": "code",
   "execution_count": 6,
   "metadata": {},
   "outputs": [],
   "source": [
    "def trace(A):\n",
    "    tr = 0\n",
    "    for i in range(len(A)):\n",
    "        tr+= A[i][i] \n",
    "    return(tr)\n",
    "\n"
   ]
  },
  {
   "cell_type": "code",
   "execution_count": 7,
   "metadata": {},
   "outputs": [],
   "source": [
    "def normTr(d, A):\n",
    "    ev = np.linalg.eigvalsh(A)\n",
    "    Ntr = 0\n",
    "    for j in range(0, d):\n",
    "        Ntr += abs(ev[j]) #calculate the sum of all absolute values \n",
    "    return Ntr"
   ]
  },
  {
   "cell_type": "code",
   "execution_count": 8,
   "metadata": {},
   "outputs": [],
   "source": [
    "z = np.array([1,0])\n",
    "o = np.array([0,1])\n",
    "\n",
    "lst = [z,o]\n",
    "\n",
    "def function(A): #function refers to reconstruction of density operator between two qubits\n",
    "    M = np.zeros((4,4))\n",
    "    dd = 0\n",
    "    for i in lst:\n",
    "        for j in lst:\n",
    "            for i1 in lst:\n",
    "                for j1 in lst:\n",
    "                    M = M + A[dd] * np.kron(np.outer(i,i1),np.outer(j1,j))\n",
    "                    dd = dd + 1\n",
    "    return(M)               \n",
    "                "
   ]
  },
  {
   "cell_type": "code",
   "execution_count": 9,
   "metadata": {},
   "outputs": [],
   "source": [
    "def negativity(d, rhoTp):\n",
    "    En = 0.5*(normTr(d, rhoTp) - 1.0)\n",
    "    return En\n",
    "\n",
    "\n",
    "\n"
   ]
  },
  {
   "cell_type": "code",
   "execution_count": 10,
   "metadata": {},
   "outputs": [],
   "source": [
    "#maximizing a  bell state:\n",
    "#This cell makes measurements in x,y,and z bases \n",
    "\n",
    "\n",
    "\n",
    "#n is number of qubits\n",
    "n = 2\n",
    "q = QuantumRegister(2, 'q')\n",
    "c = ClassicalRegister(2, 'c')\n",
    "qc = []\n",
    "\n",
    "for i in range(3**n):\n",
    "    qc.append(QuantumCircuit(q, c))\n",
    "    qc[i].id(0)\n",
    "    qc[i].id(1)\n",
    "    qc[i].barrier(0,1)\n",
    "    qc[i].h(0)\n",
    "    qc[i].barrier(0,1)\n",
    "    qc[i].id(0)\n",
    "    qc[i].id(1)\n",
    "    qc[i].barrier(0,1)\n",
    "    qc[i].cx(0,1)\n",
    "    qc[i].barrier(0,1)\n",
    "    qc[i].id(0)\n",
    "    qc[i].id(1)\n",
    "    qc[i].barrier(0,1)\n",
    "    \n",
    "    \n",
    "\n",
    "\n",
    "count = 0 #count refers to the total number of circuits.\n",
    "for i in range(3):\n",
    "    for j in range(3):\n",
    "        if i == 0: \n",
    "            qc[count].h(0)\n",
    "        elif i == 1:\n",
    "            qc[count].s(0).inverse()\n",
    "            qc[count].h(0)\n",
    "        if j == 0:\n",
    "            qc[count].h(1)\n",
    "        elif j == 1:\n",
    "            qc[count].s(1).inverse()\n",
    "            qc[count].h(1)\n",
    "        count += 1\n",
    "        \n",
    "for i in range(3**n):\n",
    "    qc[i].measure(q,c)\n",
    "\n",
    "  \n",
    "\n"
   ]
  },
  {
   "cell_type": "code",
   "execution_count": 11,
   "metadata": {},
   "outputs": [
    {
     "data": {
      "image/png": "[encoded data removed]",
      "text/plain": [
       "<Figure size 960.792x204.68 with 1 Axes>"
      ]
     },
     "execution_count": 11,
     "metadata": {},
     "output_type": "execute_result"
    }
   ],
   "source": [
    "qc[0].draw(output = 'mpl')"
   ]
  },
  {
   "cell_type": "markdown",
   "metadata": {},
   "source": [
    "#Automation planning:\n",
    "1) Place id_gates in 5 positions of the circuit\n",
    "2) write a code that does this in a single run. \n"
   ]
  },
  {
   "cell_type": "code",
   "execution_count": 12,
   "metadata": {},
   "outputs": [],
   "source": [
    "backend = provider.get_backend('ibmq_valencia')\n",
    "from qiskit.providers.ibmq.job import job_monitor\n",
    "from qiskit.visualization import plot_histogram\n",
    "\n",
    "job_exp = qiskit.execute(qc,backend=backend, shots = 8132)\n",
    "\n"
   ]
  },
  {
   "cell_type": "code",
   "execution_count": 13,
   "metadata": {
    "scrolled": true
   },
   "outputs": [
    {
     "name": "stdout",
     "output_type": "stream",
     "text": [
      "Job Status: job has successfully run\n"
     ]
    }
   ],
   "source": [
    "job_monitor(job_exp)"
   ]
  },
  {
   "cell_type": "code",
   "execution_count": 14,
   "metadata": {},
   "outputs": [
    {
     "data": {
      "text/plain": [
       "[{'00': 3679, '11': 4028, '01': 250, '10': 175},\n",
       " {'00': 2099, '11': 2150, '01': 2169, '10': 1714},\n",
       " {'00': 2051, '11': 1946, '01': 2282, '10': 1853},\n",
       " {'00': 2118, '11': 2090, '01': 1833, '10': 2091},\n",
       " {'00': 347, '11': 94, '01': 3888, '10': 3803},\n",
       " {'00': 2118, '11': 1811, '01': 2112, '10': 2091},\n",
       " {'00': 2122, '11': 1998, '01': 1902, '10': 2110},\n",
       " {'00': 2045, '11': 1853, '01': 2149, '10': 2085},\n",
       " {'00': 4049, '11': 3700, '01': 227, '10': 156}]"
      ]
     },
     "execution_count": 14,
     "metadata": {},
     "output_type": "execute_result"
    }
   ],
   "source": [
    "output = job_exp.result().get_counts()\n",
    "output"
   ]
  },
  {
   "cell_type": "code",
   "execution_count": 15,
   "metadata": {},
   "outputs": [],
   "source": [
    "#sorts the output based on tuples\n",
    "\n",
    "def sort_output(data):\n",
    "    sorted_output = []\n",
    "    for i in range(len(output)):\n",
    "        sorted_output.append(sorted(output[i].items()))\n",
    "    return(sorted_output)\n",
    "\n",
    "\n"
   ]
  },
  {
   "cell_type": "code",
   "execution_count": 18,
   "metadata": {},
   "outputs": [
    {
     "data": {
      "text/plain": [
       "[[('00', 3679), ('01', 250), ('10', 175), ('11', 4028)],\n",
       " [('00', 2099), ('01', 2169), ('10', 1714), ('11', 2150)],\n",
       " [('00', 2051), ('01', 2282), ('10', 1853), ('11', 1946)],\n",
       " [('00', 2118), ('01', 1833), ('10', 2091), ('11', 2090)],\n",
       " [('00', 347), ('01', 3888), ('10', 3803), ('11', 94)],\n",
       " [('00', 2118), ('01', 2112), ('10', 2091), ('11', 1811)],\n",
       " [('00', 2122), ('01', 1902), ('10', 2110), ('11', 1998)],\n",
       " [('00', 2045), ('01', 2149), ('10', 2085), ('11', 1853)],\n",
       " [('00', 4049), ('01', 227), ('10', 156), ('11', 3700)]]"
      ]
     },
     "execution_count": 18,
     "metadata": {},
     "output_type": "execute_result"
    }
   ],
   "source": [
    "sort_output(output)"
   ]
  },
  {
   "cell_type": "code",
   "execution_count": 21,
   "metadata": {},
   "outputs": [],
   "source": [
    "#takes the probabilities from the sorted_output and gives an array in sorted order.\n",
    "def probability(sorted_output):\n",
    "    ns = 8132\n",
    "    values = []\n",
    "    for i in range(len(sorted_output)):\n",
    "        for j in range(4):\n",
    "            values.append(sorted_output[i][j][1]/ns)\n",
    "    p = np.array(values)\n",
    "    p\n",
    "    return(p)\n",
    "    "
   ]
  },
  {
   "cell_type": "code",
   "execution_count": 37,
   "metadata": {},
   "outputs": [
    {
     "data": {
      "text/plain": [
       "array([0.45241023, 0.03074274, 0.02151992, 0.4953271 , 0.25811608,\n",
       "       0.26672405, 0.21077226, 0.2643876 , 0.25221348, 0.28061977,\n",
       "       0.22786522, 0.23930152, 0.26045253, 0.2254058 , 0.25713232,\n",
       "       0.25700935, 0.04267093, 0.47811117, 0.46765863, 0.01155927,\n",
       "       0.26045253, 0.25971471, 0.25713232, 0.22270044, 0.26094442,\n",
       "       0.2338908 , 0.25946877, 0.24569602, 0.25147565, 0.26426463,\n",
       "       0.25639449, 0.22786522, 0.49790949, 0.02791441, 0.01918347,\n",
       "       0.45499262])"
      ]
     },
     "execution_count": 37,
     "metadata": {},
     "output_type": "execute_result"
    }
   ],
   "source": [
    "p = probability(sort_output(output))\n",
    "p"
   ]
  },
  {
   "cell_type": "code",
   "execution_count": 39,
   "metadata": {
    "scrolled": true
   },
   "outputs": [],
   "source": [
    "#density operator reconstruction begins here. \n",
    "#Outputs probability coefficient using probability from IBM Q as input\n",
    "\n",
    "def prob_coeff(p):\n",
    "    d1 = np.eye(4)\n",
    "    ab = [1, -1]\n",
    "    A = []\n",
    "    for i in range(1,4):\n",
    "        for j in range(1,4):\n",
    "            for a in ab :\n",
    "                for b in ab :\n",
    "                    B = []\n",
    "                    for al in range(4):\n",
    "                        for be in range(4):\n",
    "                            mat = (d1[al][0] + a* d1[al][i]) * (d1[be][0] + b* d1[be][j])/4\n",
    "                            #mat = (int(d0[al]) + a* int(d1[i][al])) * (int(d0[be]) + b*int(d1[j][be]))/4 \n",
    "                            B.append(mat)\n",
    "                    if (i == 1 and a == 1 and j == 1 and b == -1):\n",
    "                        print(B)\n",
    "                    A.append(B) #We append our matrix here because we need 16 different elements of c_s so that we don't need to reshape\n",
    "    M = np.array(A, dtype = float)\n",
    "    M_inv = np.linalg.pinv(M)\n",
    "    C = np.matmul(M_inv, p)\n",
    "    return(C)\n"
   ]
  },
  {
   "cell_type": "code",
   "execution_count": 40,
   "metadata": {},
   "outputs": [
    {
     "name": "stdout",
     "output_type": "stream",
     "text": [
      "[0.25, -0.25, 0.0, 0.0, 0.25, -0.25, 0.0, 0.0, 0.0, -0.0, 0.0, 0.0, 0.0, -0.0, 0.0, 0.0]\n"
     ]
    },
    {
     "data": {
      "text/plain": [
       "array([ 1.        ,  0.00795212, -0.00860797,  0.00983768,  0.02721758,\n",
       "        0.89547467,  0.04500738, -0.01697   ,  0.01787178,  0.03492376,\n",
       "       -0.8915396 , -0.03369405,  0.02426627,  0.01328087, -0.04131825,\n",
       "        0.90580423])"
      ]
     },
     "execution_count": 40,
     "metadata": {},
     "output_type": "execute_result"
    }
   ],
   "source": [
    "prob_coeff(p)"
   ]
  },
  {
   "cell_type": "code",
   "execution_count": 46,
   "metadata": {},
   "outputs": [
    {
     "name": "stdout",
     "output_type": "stream",
     "text": [
      "[0.25, -0.25, 0.0, 0.0, 0.25, -0.25, 0.0, 0.0, 0.0, -0.0, 0.0, 0.0, 0.0, -0.0, 0.0, 0.0]\n"
     ]
    }
   ],
   "source": [
    "Coeff = prob_coeff(p)"
   ]
  },
  {
   "cell_type": "markdown",
   "metadata": {},
   "source": [
    "#This is the rho equation which takes the prob coefficients (C) as its input\n",
    "def rho_eq(C):\n",
    "    B = []\n",
    "    d = 0\n",
    "    for al in range(4):\n",
    "        for be in range(4):\n",
    "            rho_q2 = C[d] * np.kron(Pauli(al),Pauli(be))/4\n",
    "            d = d + 1\n",
    "            B.append(rho_q2)\n",
    "    \n",
    "    \n",
    "    return(B)\n",
    "\n",
    "rho = np.zeros((4,4))\n",
    "for i in range(len(B)):\n",
    "    rho = rho + B[i]\n",
    "rho\n",
    "\n",
    "#We combine these two parts to create the function below. \n",
    "\n",
    "\n"
   ]
  },
  {
   "cell_type": "code",
   "execution_count": 48,
   "metadata": {},
   "outputs": [],
   "source": [
    "#This is the rho equation which takes the prob coefficients (C) as its input and returns the reconstructed density operator\n",
    "def rho_eq(C):\n",
    "    B = []\n",
    "    d = 0\n",
    "    rho = np.zeros((4,4))\n",
    "    for al in range(4):\n",
    "        for be in range(4):\n",
    "            rho_q2 = C[d] * np.kron(Pauli(al),Pauli(be))/4\n",
    "            d = d + 1\n",
    "            B.append(rho_q2)\n",
    "        \n",
    "    for i in range(len(B)):\n",
    "        rho = rho + B[i]\n",
    "    return(rho)\n",
    "\n",
    "\n",
    "\n",
    "\n",
    "\n"
   ]
  },
  {
   "cell_type": "code",
   "execution_count": 72,
   "metadata": {},
   "outputs": [
    {
     "data": {
      "text/plain": [
       "array([[ 0.48497705+0.j        ,  0.00530825+0.01248155j,\n",
       "         0.0025619 +0.00395557j,  0.44675357-0.01998278j],\n",
       "       [ 0.00530825-0.01248155j,  0.02715609+0.j        ,\n",
       "         0.00098377+0.00252091j,  0.01104689-0.01289146j],\n",
       "       [ 0.0025619 -0.00395557j,  0.00098377-0.00252091j,\n",
       "         0.01994179+0.j        , -0.00133219-0.00817757j],\n",
       "       [ 0.44675357+0.01998278j,  0.01104689+0.01289146j,\n",
       "        -0.00133219+0.00817757j,  0.46792507+0.j        ]])"
      ]
     },
     "execution_count": 72,
     "metadata": {},
     "output_type": "execute_result"
    }
   ],
   "source": [
    "rho = rho_eq(Coeff)\n",
    "rho"
   ]
  },
  {
   "cell_type": "code",
   "execution_count": 55,
   "metadata": {},
   "outputs": [
    {
     "data": {
      "text/plain": [
       "array([0.01782375, 0.02389552, 0.03396123, 0.92431951])"
      ]
     },
     "execution_count": 55,
     "metadata": {},
     "output_type": "execute_result"
    }
   ],
   "source": [
    "np.linalg.eigvalsh(rho)  ## one of the eigenvalues is negative but clos"
   ]
  },
  {
   "cell_type": "code",
   "execution_count": 66,
   "metadata": {},
   "outputs": [],
   "source": [
    "#takes the reconstructed density operator as its input and changes the list with negative eigenvalues to positive.\n",
    "def pos_eigval_creater(rho):\n",
    "    a = 0\n",
    "    eigval = np.linalg.eigvalsh(rho)\n",
    "    meu = sorted(eigval, reverse = True)\n",
    "    lmd = np.zeros(len(meu))\n",
    "    count = 0\n",
    "    for i in reversed(range(len(meu))) :\n",
    "        if (meu[i].real + a/(i+1)) < 0:\n",
    "            lmd[i] = 0\n",
    "            a += lmd[i] + meu[i]\n",
    "            lmd[i-1] = meu[i-1].real + a\n",
    "            count = count + 1\n",
    "\n",
    "        else:\n",
    "            lmd[i] = meu[i].real + a/(count+1)\n",
    "    return(lmd)\n",
    "        "
   ]
  },
  {
   "cell_type": "code",
   "execution_count": 67,
   "metadata": {},
   "outputs": [
    {
     "data": {
      "text/plain": [
       "array([0.92431951, 0.03396123, 0.02389552, 0.01782375])"
      ]
     },
     "execution_count": 67,
     "metadata": {},
     "output_type": "execute_result"
    }
   ],
   "source": [
    "pos_eigval_creater(rho)"
   ]
  },
  {
   "cell_type": "code",
   "execution_count": 87,
   "metadata": {},
   "outputs": [],
   "source": [
    "z = np.array([1,0])\n",
    "o = np.array([0,1])\n",
    "\n",
    "lst = [z,o]\n",
    "\n",
    "def partial_transpose(matrix, q):#This function computes the partial transpose of a matrix. \n",
    "    M = np.zeros((4,4))\n",
    "    dd = 0\n",
    "    for i in lst:\n",
    "        for j in lst:\n",
    "            for i1 in lst:\n",
    "                for j1 in lst:\n",
    "                    if q == 0:\n",
    "                        M = M + matrix[dd] * np.kron(np.outer(i1,i),np.outer(j,j1))\n",
    "                    elif q == 1:\n",
    "                        M = M + matrix[dd] * np.kron(np.outer(i,i1),np.outer(j1,j))\n",
    "                    dd = dd + 1\n",
    "    return(M)               \n",
    "                "
   ]
  },
  {
   "cell_type": "code",
   "execution_count": 93,
   "metadata": {},
   "outputs": [],
   "source": [
    "def matrix_to_list(rho):\n",
    "    rho_list = []\n",
    "    for i in range(len(rho)):\n",
    "        for j in range(len(rho[0])):\n",
    "            rho_list.append(rho[i][j])\n",
    "    return(rho_list)\n"
   ]
  },
  {
   "cell_type": "code",
   "execution_count": 94,
   "metadata": {},
   "outputs": [
    {
     "data": {
      "text/plain": [
       "array([[ 0.48497705+0.j        ,  0.00530825-0.01248155j,\n",
       "         0.0025619 +0.00395557j,  0.00098377+0.00252091j],\n",
       "       [ 0.00530825+0.01248155j,  0.02715609+0.j        ,\n",
       "         0.44675357-0.01998278j,  0.01104689-0.01289146j],\n",
       "       [ 0.0025619 -0.00395557j,  0.44675357+0.01998278j,\n",
       "         0.01994179+0.j        , -0.00133219+0.00817757j],\n",
       "       [ 0.00098377-0.00252091j,  0.01104689+0.01289146j,\n",
       "        -0.00133219-0.00817757j,  0.46792507+0.j        ]])"
      ]
     },
     "execution_count": 94,
     "metadata": {},
     "output_type": "execute_result"
    }
   ],
   "source": [
    "rhoTp = partial_transpose(rho_list, 1)\n",
    "rhoTp\n",
    "\n"
   ]
  },
  {
   "cell_type": "code",
   "execution_count": 95,
   "metadata": {},
   "outputs": [
    {
     "data": {
      "text/plain": [
       "0.42415157720449836"
      ]
     },
     "execution_count": 95,
     "metadata": {},
     "output_type": "execute_result"
    }
   ],
   "source": [
    "negativity(4, rhoTp)"
   ]
  },
  {
   "cell_type": "code",
   "execution_count": null,
   "metadata": {},
   "outputs": [],
   "source": []
  }
 ],
 "metadata": {
  "kernelspec": {
   "display_name": "Python 3",
   "language": "python",
   "name": "python3"
  },
  "language_info": {
   "codemirror_mode": {
    "name": "ipython",
    "version": 3
   },
   "file_extension": ".py",
   "mimetype": "text/x-python",
   "name": "python",
   "nbconvert_exporter": "python",
   "pygments_lexer": "ipython3",
   "version": "3.7.6"
  }
 },
 "nbformat": 4,
 "nbformat_minor": 4
}
