{
 "cells": [
  {
   "cell_type": "code",
   "execution_count": 1,
   "metadata": {},
   "outputs": [],
   "source": [
    "from qiskit import QuantumCircuit, ClassicalRegister, QuantumRegister\n",
    "from qiskit import IBMQ\n",
    "import qiskit\n",
    "import random\n",
    "import pandas as pd\n",
    "import numpy as np \n",
    "from qiskit.providers.ibmq import IBMQJob\n",
    "from qiskit.providers.ibmq.job import job_monitor\n",
    "\n",
    "\n",
    "\n",
    "\n",
    "\n"
   ]
  },
  {
   "cell_type": "code",
   "execution_count": 4,
   "metadata": {},
   "outputs": [
    {
     "name": "stderr",
     "output_type": "stream",
     "text": [
      "configrc.store_credentials:WARNING:2020-11-01 13:33:57,862: Credentials already present. Set overwrite=True to overwrite.\n"
     ]
    }
   ],
   "source": [
    "IBMQ.save_account('e16aff0cd0c88a64f3123ca8f2417390e7c73433dbc8b7d872ff853bd6045d642d2230ed0b26ee080c6947f2c924fa031339b76ecd79c0b96eb9b6c08184230d')"
   ]
  },
  {
   "cell_type": "code",
   "execution_count": 5,
   "metadata": {},
   "outputs": [
    {
     "data": {
      "text/plain": [
       "[<IBMQSimulator('ibmq_qasm_simulator') from IBMQ(hub='ibm-q', group='open', project='main')>,\n",
       " <IBMQBackend('ibmqx2') from IBMQ(hub='ibm-q', group='open', project='main')>,\n",
       " <IBMQBackend('ibmq_16_melbourne') from IBMQ(hub='ibm-q', group='open', project='main')>,\n",
       " <IBMQBackend('ibmq_vigo') from IBMQ(hub='ibm-q', group='open', project='main')>,\n",
       " <IBMQBackend('ibmq_ourense') from IBMQ(hub='ibm-q', group='open', project='main')>,\n",
       " <IBMQBackend('ibmq_valencia') from IBMQ(hub='ibm-q', group='open', project='main')>,\n",
       " <IBMQBackend('ibmq_armonk') from IBMQ(hub='ibm-q', group='open', project='main')>,\n",
       " <IBMQBackend('ibmq_athens') from IBMQ(hub='ibm-q', group='open', project='main')>,\n",
       " <IBMQBackend('ibmq_santiago') from IBMQ(hub='ibm-q', group='open', project='main')>]"
      ]
     },
     "execution_count": 5,
     "metadata": {},
     "output_type": "execute_result"
    }
   ],
   "source": [
    "IBMQ.load_account()\n",
    "IBMQ.providers()\n",
    "provider = IBMQ.get_provider()\n",
    "provider.backends()"
   ]
  },
  {
   "cell_type": "code",
   "execution_count": 6,
   "metadata": {},
   "outputs": [],
   "source": [
    "api = 'e16aff0cd0c88a64f3123ca8f2417390e7c73433dbc8b7d872ff853bd6045d642d2230ed0b26ee080c6947f2c924fa031339b76ecd79c0b96eb9b6c08184230d'"
   ]
  },
  {
   "cell_type": "code",
   "execution_count": 22,
   "metadata": {},
   "outputs": [],
   "source": [
    "import numpy as np\n",
    "\n",
    "\n",
    "def Pauli(j):\n",
    "    if j == 0:\n",
    "        return np.array([[1, 0], [0, 1]])\n",
    "    elif j == 1:\n",
    "        return np.array([[0, 1], [1, 0]])\n",
    "    elif j == 2:\n",
    "        return np.array([[0, -1j], [1j, 0]])\n",
    "    elif j == 3:\n",
    "        return np.array([[1, 0], [0, -1]])\n",
    "\n",
    "\n"
   ]
  },
  {
   "cell_type": "code",
   "execution_count": 23,
   "metadata": {},
   "outputs": [],
   "source": [
    "def trace(A):\n",
    "    tr = 0\n",
    "    for i in range(len(A)):\n",
    "        tr+= A[i][i] \n",
    "    return(tr)\n",
    "\n"
   ]
  },
  {
   "cell_type": "code",
   "execution_count": 24,
   "metadata": {},
   "outputs": [],
   "source": [
    "def normTr(d, A):\n",
    "    ev = np.linalg.eigvalsh(A)\n",
    "    Ntr = 0\n",
    "    for j in range(0, d):\n",
    "        Ntr += abs(ev[j]) #calculate the sum of all absolute values \n",
    "    return Ntr"
   ]
  },
  {
   "cell_type": "code",
   "execution_count": 25,
   "metadata": {},
   "outputs": [],
   "source": [
    "def negativity(d, rhoTp):\n",
    "    En = 0.5*(normTr(d, rhoTp) - 1.0)\n",
    "    return En\n",
    "\n",
    "\n",
    "\n"
   ]
  },
  {
   "cell_type": "code",
   "execution_count": 190,
   "metadata": {},
   "outputs": [],
   "source": [
    "#maximizing a  bell state:\n",
    "#This cell makes measurements in x,y,and z bases \n",
    "\n",
    "\n",
    "#variation_A_Hadamard_and_CNOT\n",
    "\n",
    "#n is number of qubits\n",
    "n = 2\n",
    "q = QuantumRegister(2, 'q')\n",
    "c = ClassicalRegister(2, 'c')\n",
    "qc = []\n",
    "\n",
    "for i in range(3**n):\n",
    "    qc.append(QuantumCircuit(q, c))\n",
    "    qc[i].id(0)\n",
    "    qc[i].id(1)\n",
    "    qc[i].barrier(0,1)\n",
    "    qc[i].h(0)\n",
    "    qc[i].barrier(0,1)\n",
    "    qc[i].id(0)\n",
    "    qc[i].id(1)\n",
    "    qc[i].barrier(0,1)\n",
    "    qc[i].cx(0,1)\n",
    "    qc[i].barrier(0,1)\n",
    "    qc[i].id(0)\n",
    "    qc[i].id(1)\n",
    "    qc[i].barrier(0,1)\n",
    "    \n",
    "    \n",
    "\n",
    "\n",
    "count = 0 #count refers to the total number of circuits.\n",
    "for i in range(3):\n",
    "    for j in range(3):\n",
    "        if i == 0: \n",
    "            qc[count].h(0)\n",
    "        elif i == 1:\n",
    "            qc[count].s(0).inverse()\n",
    "            qc[count].h(0)\n",
    "        if j == 0:\n",
    "            qc[count].h(1)\n",
    "        elif j == 1:\n",
    "            qc[count].s(1).inverse()\n",
    "            qc[count].h(1)\n",
    "        count += 1\n",
    "        \n",
    "for i in range(3**n):\n",
    "    qc[i].measure(q,c)\n",
    "\n",
    "  \n",
    "\n"
   ]
  },
  {
   "cell_type": "code",
   "execution_count": 191,
   "metadata": {},
   "outputs": [
    {
     "data": {
      "image/png": "[encoded data removed]",
      "text/plain": [
       "<Figure size 960.792x204.68 with 1 Axes>"
      ]
     },
     "execution_count": 191,
     "metadata": {},
     "output_type": "execute_result"
    }
   ],
   "source": [
    "qc[0].draw(output = 'mpl')"
   ]
  },
  {
   "cell_type": "code",
   "execution_count": 192,
   "metadata": {},
   "outputs": [
    {
     "data": {
      "text/plain": [
       "[<qiskit.circuit.quantumcircuit.QuantumCircuit at 0x1a22813b90>,\n",
       " <qiskit.circuit.quantumcircuit.QuantumCircuit at 0x1a22813890>,\n",
       " <qiskit.circuit.quantumcircuit.QuantumCircuit at 0x1a2269df50>,\n",
       " <qiskit.circuit.quantumcircuit.QuantumCircuit at 0x1a2281a9d0>,\n",
       " <qiskit.circuit.quantumcircuit.QuantumCircuit at 0x1a2281a3d0>,\n",
       " <qiskit.circuit.quantumcircuit.QuantumCircuit at 0x1a2281ad90>,\n",
       " <qiskit.circuit.quantumcircuit.QuantumCircuit at 0x1a228c8910>,\n",
       " <qiskit.circuit.quantumcircuit.QuantumCircuit at 0x1a228c8a10>,\n",
       " <qiskit.circuit.quantumcircuit.QuantumCircuit at 0x1a228c8210>]"
      ]
     },
     "execution_count": 192,
     "metadata": {},
     "output_type": "execute_result"
    }
   ],
   "source": [
    "qc"
   ]
  },
  {
   "cell_type": "code",
   "execution_count": 194,
   "metadata": {},
   "outputs": [],
   "source": [
    "path = '/Users/student/Documents/summer_research/circuit_results/project1_files/ET/'"
   ]
  },
  {
   "cell_type": "code",
   "execution_count": 195,
   "metadata": {},
   "outputs": [
    {
     "name": "stdout",
     "output_type": "stream",
     "text": [
      "0\n",
      "Job Status: job has successfully run\n",
      "1\n",
      "Job Status: job has successfully run\n",
      "2\n",
      "Job Status: job has successfully run\n",
      "3\n",
      "Job Status: job has successfully run\n",
      "4\n",
      "Job Status: job has successfully run\n",
      "5\n",
      "Job Status: job has successfully run\n",
      "6\n",
      "Job Status: job has successfully run\n",
      "7\n",
      "Job Status: job has successfully run                        \n",
      "8\n",
      "Job Status: job has successfully run                     \n",
      "9\n",
      "Job Status: job has successfully run\n",
      "10\n",
      "Job Status: job has successfully run\n",
      "11\n",
      "Job Status: job has successfully run\n",
      "12\n",
      "Job Status: job has successfully run\n",
      "13\n",
      "Job Status: job has successfully run\n",
      "14\n",
      "Job Status: job has successfully run\n"
     ]
    }
   ],
   "source": [
    "backend = provider.get_backend('ibmq_valencia')\n",
    "output = []\n",
    "n = 15 # total number of circuits for each number of identity gates. \n",
    "for i in range(n):\n",
    "    job_exp = qiskit.execute(qc,backend=backend,shots = 8132)\n",
    "    print(i)\n",
    "    job_monitor(job_exp)\n",
    "    output = job_exp.result().get_counts()\n",
    "    df = pd.DataFrame(output)\n",
    "    df.to_csv(path  + \"var_A_H&C\" + str(i)+ \".csv\") ##variation_A_Hadamard_and_CNOT\n",
    "\n",
    "\n",
    "    \n",
    "\n",
    "\n",
    "\n",
    "\n",
    "\n",
    "\n",
    "\n",
    "\n"
   ]
  },
  {
   "cell_type": "code",
   "execution_count": null,
   "metadata": {},
   "outputs": [],
   "source": []
  },
  {
   "cell_type": "markdown",
   "metadata": {},
   "source": [
    "#Automation planning:\n",
    "1) Place id_gates in 5 positions of the circuit\n",
    "2) write a code that does this in a single run. \n"
   ]
  },
  {
   "cell_type": "code",
   "execution_count": 26,
   "metadata": {},
   "outputs": [],
   "source": [
    "#sorts the output based on tuples\n",
    "\n",
    "def sort_output(data):\n",
    "    sorted_output = []\n",
    "    for i in range(len(data)):\n",
    "        sorted_output.append(sorted(data[i].items()))\n",
    "    return(sorted_output)\n",
    "\n",
    "\n"
   ]
  },
  {
   "cell_type": "code",
   "execution_count": 27,
   "metadata": {},
   "outputs": [],
   "source": [
    "#takes the probabilities from the sorted_output and gives an array in sorted order.\n",
    "def probability(sorted_output):\n",
    "    ns = 8132\n",
    "    values = []\n",
    "    for i in range(len(sorted_output)):\n",
    "        for j in range(4):\n",
    "            values.append(sorted_output[i][j][1]/ns)\n",
    "    p = np.array(values)\n",
    "    p\n",
    "    return(p)\n",
    "    "
   ]
  },
  {
   "cell_type": "code",
   "execution_count": 28,
   "metadata": {
    "scrolled": true
   },
   "outputs": [],
   "source": [
    "#density operator reconstruction begins here. \n",
    "#Outputs probability coefficient using probability from IBM Q as input\n",
    "\n",
    "def prob_coeff(p):\n",
    "    d1 = np.eye(4)\n",
    "    ab = [1, -1]\n",
    "    A = []\n",
    "    for i in range(1,4):\n",
    "        for j in range(1,4):\n",
    "            for a in ab :\n",
    "                for b in ab :\n",
    "                    B = []\n",
    "                    for al in range(4):\n",
    "                        for be in range(4):\n",
    "                            mat = (d1[al][0] + a* d1[al][i]) * (d1[be][0] + b* d1[be][j])/4\n",
    "                            #mat = (int(d0[al]) + a* int(d1[i][al])) * (int(d0[be]) + b*int(d1[j][be]))/4 \n",
    "                            B.append(mat)\n",
    "                    A.append(B) #We append our matrix here because we need 16 different elements of c_s so that we don't need to reshape\n",
    "    M = np.array(A, dtype = float)\n",
    "    M_inv = np.linalg.pinv(M)\n",
    "    C = np.matmul(M_inv, p)\n",
    "    return(C)\n"
   ]
  },
  {
   "cell_type": "markdown",
   "metadata": {},
   "source": [
    "#This is the rho equation which takes the prob coefficients (C) as its input\n",
    "def rho_eq(C):\n",
    "    B = []\n",
    "    d = 0\n",
    "    for al in range(4):\n",
    "        for be in range(4):\n",
    "            rho_q2 = C[d] * np.kron(Pauli(al),Pauli(be))/4\n",
    "            d = d + 1\n",
    "            B.append(rho_q2)\n",
    "    \n",
    "    \n",
    "    return(B)\n",
    "\n",
    "rho = np.zeros((4,4))\n",
    "for i in range(len(B)):\n",
    "    rho = rho + B[i]\n",
    "rho\n",
    "\n",
    "#We combine these two parts to create the function below. \n",
    "\n",
    "\n"
   ]
  },
  {
   "cell_type": "code",
   "execution_count": 29,
   "metadata": {},
   "outputs": [],
   "source": [
    "#This is the rho equation which takes the prob coefficients (C) as its input and returns the reconstructed density operator\n",
    "def rho_eq(C):\n",
    "    B = []\n",
    "    d = 0\n",
    "    rho = np.zeros((4,4))\n",
    "    for al in range(4):\n",
    "        for be in range(4):\n",
    "            rho_q2 = C[d] * np.kron(Pauli(al),Pauli(be))/4\n",
    "            d = d + 1\n",
    "            B.append(rho_q2)\n",
    "        \n",
    "    for i in range(len(B)):\n",
    "        rho = rho + B[i]\n",
    "    return(rho)\n",
    "\n",
    "\n",
    "\n",
    "\n",
    "\n"
   ]
  },
  {
   "cell_type": "code",
   "execution_count": 30,
   "metadata": {},
   "outputs": [],
   "source": [
    "#takes the reconstructed density operator as its input and changes the list with negative eigenvalues to positive.\n",
    "def pos_eigval_creater(den_op):\n",
    "    a = 0\n",
    "    eigval = np.linalg.eigvalsh(den_op)\n",
    "    meu = sorted(eigval, reverse = True)\n",
    "    lmd = np.zeros(len(meu))\n",
    "    count = 0\n",
    "    for i in reversed(range(len(meu))) :\n",
    "        if (meu[i].real + a/(i+1)) < 0:\n",
    "            lmd[i] = 0\n",
    "            a += lmd[i] + meu[i]\n",
    "            lmd[i-1] = meu[i-1].real + a\n",
    "            count = count + 1\n",
    "\n",
    "        else:\n",
    "            lmd[i] = meu[i].real + a/(count+1)\n",
    "    return(lmd)\n",
    "        "
   ]
  },
  {
   "cell_type": "code",
   "execution_count": 31,
   "metadata": {},
   "outputs": [],
   "source": [
    "#This function takes our reconstructed density operator and updates it with new eigenvalues \n",
    "def rho_updated_meu(den_op,lmd): #lmd is the new eigenvalue which is the output of  pos_eigval_creater(rho)\n",
    "    n = 2\n",
    "    matrix = np.zeros((2**n,2**n))\n",
    "    eigval, eigvecs = np.linalg.eig(den_op)\n",
    "    for i in range(len(lmd)):\n",
    "        matrix = matrix + lmd[i]* np.outer(eigvecs[i] , eigvecs[i])\n",
    "    return(matrix)\n",
    "\n"
   ]
  },
  {
   "cell_type": "code",
   "execution_count": 32,
   "metadata": {},
   "outputs": [],
   "source": [
    "def matrix_to_list(rho):\n",
    "    rho_list = []\n",
    "    for i in range(len(rho)):\n",
    "        for j in range(len(rho[0])):\n",
    "            rho_list.append(rho[i][j])\n",
    "    return(rho_list)\n",
    "\n"
   ]
  },
  {
   "cell_type": "code",
   "execution_count": 33,
   "metadata": {},
   "outputs": [],
   "source": [
    "def partial_transpose(rho_lst, q):#This function computes the partial transpose of a matrix. \n",
    "    z = np.array([1,0])\n",
    "    o = np.array([0,1])\n",
    "    lst = [z,o]\n",
    "    M = np.zeros((4,4))\n",
    "    dd = 0\n",
    "    for i in lst:\n",
    "        for j in lst:\n",
    "            for i1 in lst:\n",
    "                for j1 in lst:\n",
    "                    if q == 0:\n",
    "                        M = M + rho_lst[dd] * np.kron(np.outer(i1,i),np.outer(j,j1))\n",
    "                    elif q == 1:\n",
    "                        M = M + rho_lst[dd] * np.kron(np.outer(i,i1),np.outer(j1,j))\n",
    "                    dd = dd + 1\n",
    "    return(M)               \n",
    "                "
   ]
  },
  {
   "cell_type": "code",
   "execution_count": 34,
   "metadata": {},
   "outputs": [],
   "source": [
    "#How do I incorporate new eigenvalues to the density operator "
   ]
  },
  {
   "cell_type": "code",
   "execution_count": 35,
   "metadata": {},
   "outputs": [],
   "source": [
    "def csv_to_dict(filename, PATH):  \n",
    "    outcome = []\n",
    "    output = []\n",
    "    import csv\n",
    "    with open(PATH + filename) as csv_file:\n",
    "        csv_reader = csv.reader(csv_file, delimiter=',')\n",
    "        for row in csv_reader:\n",
    "            row = row[1:5]\n",
    "            outcome.append(row)\n",
    "\n",
    "    for i in range(1,len(outcome)):\n",
    "        for j in range(len(outcome[0])):\n",
    "            if outcome[i][j] == '':\n",
    "                outcome[i][j] = 0\n",
    "            else:    \n",
    "                outcome[i][j] = int(float(outcome[i][j]))\n",
    "        output.append(dict(zip(outcome[0], outcome[i])))\n",
    "    return output       \n",
    "        "
   ]
  },
  {
   "cell_type": "code",
   "execution_count": 36,
   "metadata": {},
   "outputs": [],
   "source": [
    "path1 =  '/Users/student/Documents/summer_research/circuit_results/project1_files/ET/' "
   ]
  },
  {
   "cell_type": "code",
   "execution_count": 37,
   "metadata": {},
   "outputs": [
    {
     "data": {
      "text/plain": [
       "[[{'10': 154, '00': 3830, '11': 3726, '01': 422},\n",
       "  {'10': 1819, '00': 2263, '11': 1840, '01': 2210},\n",
       "  {'10': 1901, '00': 2101, '11': 1760, '01': 2370},\n",
       "  {'10': 1837, '00': 2221, '11': 1980, '01': 2094},\n",
       "  {'10': 3627, '00': 524, '11': 54, '01': 3927},\n",
       "  {'10': 1846, '00': 2293, '11': 1804, '01': 2189},\n",
       "  {'10': 1910, '00': 2377, '11': 1920, '01': 1925},\n",
       "  {'10': 1947, '00': 2311, '11': 1724, '01': 2150},\n",
       "  {'10': 151, '00': 4170, '11': 3427, '01': 384}],\n",
       " [{'10': 135, '00': 3899, '11': 3678, '01': 420},\n",
       "  {'10': 1807, '00': 2198, '11': 1863, '01': 2264},\n",
       "  {'10': 1851, '00': 2081, '11': 1755, '01': 2445},\n",
       "  {'10': 1915, '00': 2178, '11': 1963, '01': 2076},\n",
       "  {'10': 3557, '00': 529, '11': 79, '01': 3967},\n",
       "  {'10': 1848, '00': 2252, '11': 1778, '01': 2254},\n",
       "  {'10': 1804, '00': 2405, '11': 1914, '01': 2009},\n",
       "  {'10': 2006, '00': 2320, '11': 1749, '01': 2057},\n",
       "  {'10': 118, '00': 4223, '11': 3377, '01': 414}],\n",
       " [{'10': 140, '00': 3846, '11': 3687, '01': 459},\n",
       "  {'10': 1784, '00': 2242, '11': 1896, '01': 2210},\n",
       "  {'10': 1929, '00': 2124, '11': 1717, '01': 2362},\n",
       "  {'10': 1900, '00': 2266, '11': 1887, '01': 2079},\n",
       "  {'10': 3643, '00': 485, '11': 78, '01': 3926},\n",
       "  {'10': 1896, '00': 2302, '11': 1743, '01': 2191},\n",
       "  {'10': 1860, '00': 2455, '11': 1903, '01': 1914},\n",
       "  {'10': 1915, '00': 2278, '11': 1807, '01': 2132},\n",
       "  {'10': 130, '00': 4199, '11': 3425, '01': 378}],\n",
       " [{'10': 161, '00': 3889, '11': 3626, '01': 456},\n",
       "  {'10': 1756, '00': 2225, '11': 1895, '01': 2256},\n",
       "  {'10': 1886, '00': 2123, '11': 1713, '01': 2410},\n",
       "  {'10': 1834, '00': 2225, '11': 1974, '01': 2099},\n",
       "  {'10': 3616, '00': 499, '11': 61, '01': 3956},\n",
       "  {'10': 1874, '00': 2235, '11': 1782, '01': 2241},\n",
       "  {'10': 1906, '00': 2315, '11': 1947, '01': 1964},\n",
       "  {'10': 1909, '00': 2355, '11': 1767, '01': 2101},\n",
       "  {'10': 130, '00': 4091, '11': 3504, '01': 407}],\n",
       " [{'10': 142, '00': 3883, '11': 3690, '01': 417},\n",
       "  {'10': 1778, '00': 2282, '11': 1892, '01': 2180},\n",
       "  {'10': 1921, '00': 2146, '11': 1644, '01': 2421},\n",
       "  {'10': 1893, '00': 2228, '11': 1882, '01': 2129},\n",
       "  {'10': 3523, '00': 545, '11': 61, '01': 4003},\n",
       "  {'10': 1833, '00': 2261, '11': 1788, '01': 2250},\n",
       "  {'10': 1852, '00': 2327, '11': 2040, '01': 1913},\n",
       "  {'10': 1902, '00': 2350, '11': 1697, '01': 2183},\n",
       "  {'10': 166, '00': 4085, '11': 3466, '01': 415}],\n",
       " [{'10': 174, '00': 3882, '11': 3628, '01': 448},\n",
       "  {'10': 1775, '00': 2324, '11': 1868, '01': 2165},\n",
       "  {'10': 1908, '00': 2174, '11': 1688, '01': 2362},\n",
       "  {'10': 1869, '00': 2273, '11': 1941, '01': 2049},\n",
       "  {'10': 3543, '00': 524, '11': 83, '01': 3982},\n",
       "  {'10': 1788, '00': 2293, '11': 1865, '01': 2186},\n",
       "  {'10': 1916, '00': 2320, '11': 1930, '01': 1966},\n",
       "  {'10': 1877, '00': 2317, '11': 1813, '01': 2125},\n",
       "  {'10': 119, '00': 4030, '11': 3530, '01': 453}],\n",
       " [{'10': 141, '00': 3956, '11': 3616, '01': 419},\n",
       "  {'10': 1796, '00': 2290, '11': 1827, '01': 2219},\n",
       "  {'10': 1944, '00': 2088, '11': 1723, '01': 2377},\n",
       "  {'10': 1777, '00': 2326, '11': 1939, '01': 2090},\n",
       "  {'10': 3576, '00': 537, '11': 96, '01': 3923},\n",
       "  {'10': 1726, '00': 2353, '11': 1895, '01': 2158},\n",
       "  {'10': 1838, '00': 2359, '11': 1897, '01': 2038},\n",
       "  {'10': 1768, '00': 2403, '11': 1926, '01': 2035},\n",
       "  {'10': 151, '00': 4040, '11': 3511, '01': 430}],\n",
       " [{'10': 130, '00': 3891, '11': 3668, '01': 443},\n",
       "  {'10': 1765, '00': 2218, '11': 1872, '01': 2277},\n",
       "  {'10': 1869, '00': 2153, '11': 1739, '01': 2371},\n",
       "  {'10': 1874, '00': 2302, '11': 1906, '01': 2050},\n",
       "  {'10': 3554, '00': 556, '11': 43, '01': 3979},\n",
       "  {'10': 1836, '00': 2314, '11': 1819, '01': 2163},\n",
       "  {'10': 1814, '00': 2413, '11': 1936, '01': 1969},\n",
       "  {'10': 1846, '00': 2310, '11': 1712, '01': 2264},\n",
       "  {'10': 138, '00': 4062, '11': 3520, '01': 412}],\n",
       " [{'10': 177, '00': 3770, '11': 3746, '01': 439},\n",
       "  {'10': 1756, '00': 2303, '11': 1912, '01': 2161},\n",
       "  {'10': 1883, '00': 2194, '11': 1649, '01': 2406},\n",
       "  {'10': 1917, '00': 2200, '11': 1960, '01': 2055},\n",
       "  {'10': 3596, '00': 518, '11': 60, '01': 3958},\n",
       "  {'10': 1812, '00': 2228, '11': 1835, '01': 2257},\n",
       "  {'10': 1860, '00': 2302, '11': 1957, '01': 2013},\n",
       "  {'10': 1953, '00': 2318, '11': 1732, '01': 2129},\n",
       "  {'10': 131, '00': 4203, '11': 3388, '01': 410}],\n",
       " [{'10': 185, '00': 3811, '11': 3715, '01': 421},\n",
       "  {'10': 1780, '00': 2273, '11': 1826, '01': 2253},\n",
       "  {'10': 1954, '00': 2112, '11': 1706, '01': 2360},\n",
       "  {'10': 1857, '00': 2317, '11': 1903, '01': 2055},\n",
       "  {'10': 3546, '00': 583, '11': 84, '01': 3919},\n",
       "  {'10': 1787, '00': 2286, '11': 1797, '01': 2262},\n",
       "  {'10': 1922, '00': 2307, '11': 1879, '01': 2024},\n",
       "  {'10': 1884, '00': 2296, '11': 1747, '01': 2205},\n",
       "  {'10': 173, '00': 4087, '11': 3437, '01': 435}],\n",
       " [{'10': 168, '00': 3879, '11': 3689, '01': 396},\n",
       "  {'10': 1778, '00': 2214, '11': 1924, '01': 2216},\n",
       "  {'10': 1897, '00': 2120, '11': 1721, '01': 2394},\n",
       "  {'10': 1873, '00': 2278, '11': 1889, '01': 2092},\n",
       "  {'10': 3639, '00': 555, '11': 81, '01': 3857},\n",
       "  {'10': 1885, '00': 2252, '11': 1803, '01': 2192},\n",
       "  {'10': 1895, '00': 2338, '11': 1966, '01': 1933},\n",
       "  {'10': 1917, '00': 2317, '11': 1752, '01': 2146},\n",
       "  {'10': 128, '00': 4096, '11': 3463, '01': 445}],\n",
       " [{'10': 146, '00': 3846, '11': 3691, '01': 449},\n",
       "  {'10': 1793, '00': 2235, '11': 1899, '01': 2205},\n",
       "  {'10': 1853, '00': 2163, '11': 1703, '01': 2413},\n",
       "  {'10': 1937, '00': 2205, '11': 1928, '01': 2062},\n",
       "  {'10': 3646, '00': 511, '11': 92, '01': 3883},\n",
       "  {'10': 1763, '00': 2256, '11': 1866, '01': 2247},\n",
       "  {'10': 1853, '00': 2362, '11': 1897, '01': 2020},\n",
       "  {'10': 1897, '00': 2325, '11': 1743, '01': 2167},\n",
       "  {'10': 149, '00': 4080, '11': 3491, '01': 412}],\n",
       " [{'10': 171, '00': 3804, '11': 3709, '01': 448},\n",
       "  {'10': 1701, '00': 2297, '11': 1937, '01': 2197},\n",
       "  {'10': 1865, '00': 2073, '11': 1722, '01': 2472},\n",
       "  {'10': 1887, '00': 2237, '11': 2043, '01': 1965},\n",
       "  {'10': 3598, '00': 546, '11': 90, '01': 3898},\n",
       "  {'10': 1829, '00': 2258, '11': 1773, '01': 2272},\n",
       "  {'10': 1825, '00': 2306, '11': 2105, '01': 1896},\n",
       "  {'10': 1927, '00': 2341, '11': 1729, '01': 2135},\n",
       "  {'10': 130, '00': 4152, '11': 3426, '01': 424}],\n",
       " [{'10': 147, '00': 3900, '11': 3639, '01': 446},\n",
       "  {'10': 1769, '00': 2271, '11': 1828, '01': 2264},\n",
       "  {'10': 1823, '00': 2176, '11': 1763, '01': 2370},\n",
       "  {'10': 1912, '00': 2215, '11': 1920, '01': 2085},\n",
       "  {'10': 3476, '00': 542, '11': 76, '01': 4038},\n",
       "  {'10': 1885, '00': 2278, '11': 1760, '01': 2209},\n",
       "  {'10': 1838, '00': 2436, '11': 1952, '01': 1906},\n",
       "  {'10': 1908, '00': 2307, '11': 1748, '01': 2169},\n",
       "  {'10': 155, '00': 4118, '11': 3414, '01': 445}],\n",
       " [{'10': 143, '00': 3886, '11': 3671, '01': 432},\n",
       "  {'10': 1863, '00': 2182, '11': 1784, '01': 2303},\n",
       "  {'10': 1922, '00': 2076, '11': 1669, '01': 2465},\n",
       "  {'10': 1927, '00': 2170, '11': 1931, '01': 2104},\n",
       "  {'10': 3553, '00': 504, '11': 76, '01': 3999},\n",
       "  {'10': 1879, '00': 2253, '11': 1783, '01': 2217},\n",
       "  {'10': 1844, '00': 2357, '11': 1935, '01': 1996},\n",
       "  {'10': 1912, '00': 2303, '11': 1825, '01': 2092},\n",
       "  {'10': 123, '00': 4215, '11': 3402, '01': 392}]]"
      ]
     },
     "execution_count": 37,
     "metadata": {},
     "output_type": "execute_result"
    }
   ],
   "source": [
    "x = []\n",
    "for i in range(15):\n",
    "    raw_data = csv_to_dict(\"var_A_H&C\" + str(i)+ \".csv\", path1)\n",
    "    x.append(raw_data)\n",
    "    \n",
    "x"
   ]
  },
  {
   "cell_type": "code",
   "execution_count": 38,
   "metadata": {},
   "outputs": [],
   "source": [
    "#define your path1 and q.\n",
    "def ET_for_all(path):\n",
    "    ET_list = []\n",
    "    for i in range(0,15):\n",
    "        q = 1\n",
    "        raw_data = csv_to_dict(\"var_A_H&C\" + str(i)+ \".csv\", path)\n",
    "\n",
    "        p = probability(sort_output(raw_data))\n",
    "\n",
    "        Coeff = prob_coeff(p)\n",
    "\n",
    "        den_op = rho_eq(Coeff)\n",
    "\n",
    "        lmd = pos_eigval_creater(den_op)\n",
    "        rho_with_meu = rho_updated_meu(den_op,lmd)\n",
    "\n",
    "        rho_lst = matrix_to_list(rho_with_meu)\n",
    "\n",
    "        rhoTp = partial_transpose(rho_lst, q)\n",
    "\n",
    "        ET_list.append(negativity(4, rhoTp))\n",
    "\n",
    "    return ET_list\n",
    "\n",
    "\n"
   ]
  },
  {
   "cell_type": "code",
   "execution_count": 43,
   "metadata": {},
   "outputs": [
    {
     "data": {
      "text/plain": [
       "[0.1670253399063606,\n",
       " 0.15638253913161815,\n",
       " 0.1613153388798525,\n",
       " 0.13476256337268422,\n",
       " 0.22523297939139397,\n",
       " 0.21293092693840532,\n",
       " 0.16502415296195472,\n",
       " 0.15697058371613704,\n",
       " 0.19838641110770416,\n",
       " 0.2169923948963548,\n",
       " 0.2641590325496166,\n",
       " 0.15251714457549082,\n",
       " 0.1421015282848621,\n",
       " 0.1495321900413198,\n",
       " 0.12811308749597483]"
      ]
     },
     "execution_count": 43,
     "metadata": {},
     "output_type": "execute_result"
    }
   ],
   "source": [
    "out = ET_for_all(path1)\n",
    "out\n"
   ]
  },
  {
   "cell_type": "code",
   "execution_count": 48,
   "metadata": {},
   "outputs": [
    {
     "data": {
      "text/plain": [
       "(0.12811308749597483, 0.2641590325496166, 0.175429747549982)"
      ]
     },
     "execution_count": 48,
     "metadata": {},
     "output_type": "execute_result"
    }
   ],
   "source": [
    "min(out),max(out),np.mean(out)"
   ]
  },
  {
   "cell_type": "code",
   "execution_count": 308,
   "metadata": {},
   "outputs": [
    {
     "data": {
      "text/plain": [
       "[{'10': 154, '00': 3830, '11': 3726, '01': 422},\n",
       " {'10': 1819, '00': 2263, '11': 1840, '01': 2210},\n",
       " {'10': 1901, '00': 2101, '11': 1760, '01': 2370},\n",
       " {'10': 1837, '00': 2221, '11': 1980, '01': 2094},\n",
       " {'10': 3627, '00': 524, '11': 54, '01': 3927},\n",
       " {'10': 1846, '00': 2293, '11': 1804, '01': 2189},\n",
       " {'10': 1910, '00': 2377, '11': 1920, '01': 1925},\n",
       " {'10': 1947, '00': 2311, '11': 1724, '01': 2150},\n",
       " {'10': 151, '00': 4170, '11': 3427, '01': 384}]"
      ]
     },
     "execution_count": 308,
     "metadata": {},
     "output_type": "execute_result"
    }
   ],
   "source": [
    "raw_data0 = csv_to_dict(\"var_A_H&C\" + str(0)+ \".csv\", path1)\n",
    "raw_data0\n",
    "\n"
   ]
  },
  {
   "cell_type": "code",
   "execution_count": 314,
   "metadata": {},
   "outputs": [
    {
     "data": {
      "text/plain": [
       "[{'10': 135, '00': 3899, '11': 3678, '01': 420},\n",
       " {'10': 1807, '00': 2198, '11': 1863, '01': 2264},\n",
       " {'10': 1851, '00': 2081, '11': 1755, '01': 2445},\n",
       " {'10': 1915, '00': 2178, '11': 1963, '01': 2076},\n",
       " {'10': 3557, '00': 529, '11': 79, '01': 3967},\n",
       " {'10': 1848, '00': 2252, '11': 1778, '01': 2254},\n",
       " {'10': 1804, '00': 2405, '11': 1914, '01': 2009},\n",
       " {'10': 2006, '00': 2320, '11': 1749, '01': 2057},\n",
       " {'10': 118, '00': 4223, '11': 3377, '01': 414}]"
      ]
     },
     "execution_count": 314,
     "metadata": {},
     "output_type": "execute_result"
    }
   ],
   "source": [
    "raw_data1 = csv_to_dict(\"var_A_H&C\" + str(1)+ \".csv\", path1)\n",
    "raw_data1\n",
    "\n",
    "\n"
   ]
  },
  {
   "cell_type": "code",
   "execution_count": 309,
   "metadata": {},
   "outputs": [
    {
     "data": {
      "text/plain": [
       "0.12811308749597483"
      ]
     },
     "execution_count": 309,
     "metadata": {},
     "output_type": "execute_result"
    }
   ],
   "source": [
    "probability(sort_output(raw_data0))\n",
    "Coeff0 = prob_coeff(probability(sort_output(raw_data0)))\n",
    "den_op0 = rho_eq(Coeff0)\n",
    "lmd0= pos_eigval_creater(den_op0)\n",
    "rho_with_meu0 = rho_updated_meu(den_op0,lmd0)\n",
    "rho_lst0 = matrix_to_list(rho_with_meu0)\n",
    "rhoTp0 = partial_transpose(rho_lst0, q)\n",
    "ET_0 = negativity(4, rhoTp0)\n",
    "\n",
    "ET_0\n",
    "\n",
    "\n",
    "\n",
    "\n",
    "\n",
    "\n",
    "\n"
   ]
  }
 ],
 "metadata": {
  "kernelspec": {
   "display_name": "Python 3",
   "language": "python",
   "name": "python3"
  },
  "language_info": {
   "codemirror_mode": {
    "name": "ipython",
    "version": 3
   },
   "file_extension": ".py",
   "mimetype": "text/x-python",
   "name": "python",
   "nbconvert_exporter": "python",
   "pygments_lexer": "ipython3",
   "version": "3.7.6"
  }
 },
 "nbformat": 4,
 "nbformat_minor": 4
}
