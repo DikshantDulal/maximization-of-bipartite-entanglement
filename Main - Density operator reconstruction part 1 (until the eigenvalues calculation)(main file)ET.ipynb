{
 "cells": [
  {
   "cell_type": "code",
   "execution_count": 1,
   "metadata": {},
   "outputs": [],
   "source": [
    "from qiskit import QuantumCircuit, ClassicalRegister, QuantumRegister\n",
    "from qiskit import IBMQ\n",
    "import qiskit\n",
    "import random\n",
    "import pandas as pd\n",
    "import numpy as np \n",
    "from qiskit.providers.ibmq import IBMQJob\n",
    "from qiskit.providers.ibmq.job import job_monitor\n",
    "\n",
    "\n",
    "\n",
    "\n",
    "\n"
   ]
  },
  {
   "cell_type": "code",
   "execution_count": 3,
   "metadata": {},
   "outputs": [
    {
     "name": "stderr",
     "output_type": "stream",
     "text": [
      "configrc.store_credentials:WARNING:2020-11-10 09:24:54,172: Credentials already present. Set overwrite=True to overwrite.\n"
     ]
    }
   ],
   "source": [
    "IBMQ.save_account('e16aff0cd0c88a64f3123ca8f2417390e7c73433dbc8b7d872ff853bd6045d642d2230ed0b26ee080c6947f2c924fa031339b76ecd79c0b96eb9b6c08184230d')"
   ]
  },
  {
   "cell_type": "code",
   "execution_count": 4,
   "metadata": {},
   "outputs": [
    {
     "data": {
      "text/plain": [
       "[<IBMQSimulator('ibmq_qasm_simulator') from IBMQ(hub='ibm-q', group='open', project='main')>,\n",
       " <IBMQBackend('ibmqx2') from IBMQ(hub='ibm-q', group='open', project='main')>,\n",
       " <IBMQBackend('ibmq_16_melbourne') from IBMQ(hub='ibm-q', group='open', project='main')>,\n",
       " <IBMQBackend('ibmq_vigo') from IBMQ(hub='ibm-q', group='open', project='main')>,\n",
       " <IBMQBackend('ibmq_ourense') from IBMQ(hub='ibm-q', group='open', project='main')>,\n",
       " <IBMQBackend('ibmq_valencia') from IBMQ(hub='ibm-q', group='open', project='main')>,\n",
       " <IBMQBackend('ibmq_armonk') from IBMQ(hub='ibm-q', group='open', project='main')>,\n",
       " <IBMQBackend('ibmq_athens') from IBMQ(hub='ibm-q', group='open', project='main')>,\n",
       " <IBMQBackend('ibmq_santiago') from IBMQ(hub='ibm-q', group='open', project='main')>]"
      ]
     },
     "execution_count": 4,
     "metadata": {},
     "output_type": "execute_result"
    }
   ],
   "source": [
    "IBMQ.load_account()\n",
    "IBMQ.providers()\n",
    "provider = IBMQ.get_provider()\n",
    "provider.backends()"
   ]
  },
  {
   "cell_type": "code",
   "execution_count": 5,
   "metadata": {},
   "outputs": [],
   "source": [
    "api = 'e16aff0cd0c88a64f3123ca8f2417390e7c73433dbc8b7d872ff853bd6045d642d2230ed0b26ee080c6947f2c924fa031339b76ecd79c0b96eb9b6c08184230d'"
   ]
  },
  {
   "cell_type": "code",
   "execution_count": 2,
   "metadata": {},
   "outputs": [],
   "source": [
    "import numpy as np\n",
    "\n",
    "\n",
    "def Pauli(j):\n",
    "    if j == 0:\n",
    "        return np.array([[1, 0], [0, 1]])\n",
    "    elif j == 1:\n",
    "        return np.array([[0, 1], [1, 0]])\n",
    "    elif j == 2:\n",
    "        return np.array([[0, -1j], [1j, 0]])\n",
    "    elif j == 3:\n",
    "        return np.array([[1, 0], [0, -1]])\n",
    "\n",
    "\n"
   ]
  },
  {
   "cell_type": "code",
   "execution_count": 3,
   "metadata": {},
   "outputs": [],
   "source": [
    "def trace(A):\n",
    "    tr = 0\n",
    "    for i in range(len(A)):\n",
    "        tr+= A[i][i] \n",
    "    return(tr)\n",
    "\n"
   ]
  },
  {
   "cell_type": "code",
   "execution_count": 4,
   "metadata": {},
   "outputs": [],
   "source": [
    "def normTr(d, A):\n",
    "    ev = np.linalg.eigvalsh(A)\n",
    "    Ntr = 0\n",
    "    for j in range(0, d):\n",
    "        Ntr += abs(ev[j]) #calculate the sum of all absolute values \n",
    "    return Ntr"
   ]
  },
  {
   "cell_type": "code",
   "execution_count": 5,
   "metadata": {},
   "outputs": [],
   "source": [
    "def negativity(d, rhoTp):\n",
    "    En = 0.5*(normTr(d, rhoTp) - 1.0)\n",
    "    return En\n",
    "\n",
    "\n",
    "\n"
   ]
  },
  {
   "cell_type": "code",
   "execution_count": 6,
   "metadata": {},
   "outputs": [],
   "source": [
    "#maximizing a  bell state:\n",
    "#This cell makes measurements in x,y,and z bases \n",
    "\n",
    "\n",
    "#variation_A_Hadamard_and_CNOT\n",
    "\n",
    "#n is number of qubits\n",
    "n = 2\n",
    "q = QuantumRegister(2, 'q')\n",
    "c = ClassicalRegister(2, 'c')\n",
    "qc = []\n",
    "\n",
    "for i in range(3**n):\n",
    "    qc.append(QuantumCircuit(q, c))\n",
    "    qc[i].id(0)\n",
    "    qc[i].id(1)\n",
    "    qc[i].barrier(0,1)\n",
    "    qc[i].h(0)\n",
    "    qc[i].barrier(0,1)\n",
    "    qc[i].id(0)\n",
    "    qc[i].id(1)\n",
    "    qc[i].barrier(0,1)\n",
    "    qc[i].cx(0,1)\n",
    "    qc[i].barrier(0,1)\n",
    "    qc[i].id(0)\n",
    "    qc[i].id(1)\n",
    "    qc[i].barrier(0,1)\n",
    "    \n",
    "    \n",
    "\n",
    "\n",
    "count = 0 #count refers to the total number of circuits.\n",
    "for i in range(3):\n",
    "    for j in range(3):\n",
    "        if i == 0: \n",
    "            qc[count].h(0)\n",
    "        elif i == 1:\n",
    "            qc[count].s(0).inverse()\n",
    "            qc[count].h(0)\n",
    "        if j == 0:\n",
    "            qc[count].h(1)\n",
    "        elif j == 1:\n",
    "            qc[count].s(1).inverse()\n",
    "            qc[count].h(1)\n",
    "        count += 1\n",
    "        \n",
    "for i in range(3**n):\n",
    "    qc[i].measure(q,c)\n",
    "\n",
    "  \n",
    "\n"
   ]
  },
  {
   "cell_type": "code",
   "execution_count": 7,
   "metadata": {},
   "outputs": [
    {
     "data": {
      "image/png": "[encoded data removed]",
      "text/plain": [
       "<Figure size 960.792x204.68 with 1 Axes>"
      ]
     },
     "execution_count": 7,
     "metadata": {},
     "output_type": "execute_result"
    }
   ],
   "source": [
    "qc[0].draw(output = 'mpl')"
   ]
  },
  {
   "cell_type": "code",
   "execution_count": 8,
   "metadata": {},
   "outputs": [
    {
     "data": {
      "text/plain": [
       "[<qiskit.circuit.quantumcircuit.QuantumCircuit at 0x1a24a1bb50>,\n",
       " <qiskit.circuit.quantumcircuit.QuantumCircuit at 0x1a24a1bf90>,\n",
       " <qiskit.circuit.quantumcircuit.QuantumCircuit at 0x1a24a12390>,\n",
       " <qiskit.circuit.quantumcircuit.QuantumCircuit at 0x1a24a12750>,\n",
       " <qiskit.circuit.quantumcircuit.QuantumCircuit at 0x1a24a12b50>,\n",
       " <qiskit.circuit.quantumcircuit.QuantumCircuit at 0x1a24a12f90>,\n",
       " <qiskit.circuit.quantumcircuit.QuantumCircuit at 0x1a24a293d0>,\n",
       " <qiskit.circuit.quantumcircuit.QuantumCircuit at 0x1a24a29790>,\n",
       " <qiskit.circuit.quantumcircuit.QuantumCircuit at 0x1a24a29b90>]"
      ]
     },
     "execution_count": 8,
     "metadata": {},
     "output_type": "execute_result"
    }
   ],
   "source": [
    "qc"
   ]
  },
  {
   "cell_type": "code",
   "execution_count": 9,
   "metadata": {},
   "outputs": [],
   "source": [
    "path = '/Users/student/Documents/summer_research/circuit_results/project1_files/ET/'"
   ]
  },
  {
   "cell_type": "code",
   "execution_count": 195,
   "metadata": {},
   "outputs": [
    {
     "name": "stdout",
     "output_type": "stream",
     "text": [
      "0\n",
      "Job Status: job has successfully run\n",
      "1\n",
      "Job Status: job has successfully run\n",
      "2\n",
      "Job Status: job has successfully run\n",
      "3\n",
      "Job Status: job has successfully run\n",
      "4\n",
      "Job Status: job has successfully run\n",
      "5\n",
      "Job Status: job has successfully run\n",
      "6\n",
      "Job Status: job has successfully run\n",
      "7\n",
      "Job Status: job has successfully run                        \n",
      "8\n",
      "Job Status: job has successfully run                     \n",
      "9\n",
      "Job Status: job has successfully run\n",
      "10\n",
      "Job Status: job has successfully run\n",
      "11\n",
      "Job Status: job has successfully run\n",
      "12\n",
      "Job Status: job has successfully run\n",
      "13\n",
      "Job Status: job has successfully run\n",
      "14\n",
      "Job Status: job has successfully run\n"
     ]
    }
   ],
   "source": [
    "backend = provider.get_backend('ibmq_valencia')\n",
    "output = []\n",
    "n = 15 # total number of circuits for each number of identity gates. \n",
    "for i in range(n):\n",
    "    job_exp = qiskit.execute(qc,backend=backend,shots = 8132)\n",
    "    print(i)\n",
    "    job_monitor(job_exp)\n",
    "    output = job_exp.result().get_counts()\n",
    "    df = pd.DataFrame(output)\n",
    "    df.to_csv(path  + \"var_A_H&C\" + str(i)+ \".csv\") ##variation_A_Hadamard_and_CNOT\n",
    "\n",
    "\n",
    "    \n",
    "\n",
    "\n",
    "\n",
    "\n",
    "\n",
    "\n",
    "\n",
    "\n"
   ]
  },
  {
   "cell_type": "code",
   "execution_count": null,
   "metadata": {},
   "outputs": [],
   "source": []
  },
  {
   "cell_type": "markdown",
   "metadata": {},
   "source": [
    "#Automation planning:\n",
    "1) Place id_gates in 5 positions of the circuit\n",
    "2) write a code that does this in a single run. \n"
   ]
  },
  {
   "cell_type": "code",
   "execution_count": 10,
   "metadata": {},
   "outputs": [],
   "source": [
    "#sorts the output based on tuples\n",
    "\n",
    "def sort_output(data):\n",
    "    sorted_output = []\n",
    "    for i in range(len(data)):\n",
    "        sorted_output.append(sorted(data[i].items()))\n",
    "    return(sorted_output)\n",
    "\n",
    "\n"
   ]
  },
  {
   "cell_type": "code",
   "execution_count": 11,
   "metadata": {},
   "outputs": [],
   "source": [
    "#takes the probabilities from the sorted_output and gives an array in sorted order.\n",
    "def probability(sorted_output):\n",
    "    ns = 8132\n",
    "    values = []\n",
    "    for i in range(len(sorted_output)):\n",
    "        for j in range(4):\n",
    "            values.append(sorted_output[i][j][1]/ns)\n",
    "    p = np.array(values)\n",
    "    p\n",
    "    return(p)\n",
    "    "
   ]
  },
  {
   "cell_type": "code",
   "execution_count": 12,
   "metadata": {
    "scrolled": true
   },
   "outputs": [],
   "source": [
    "#density operator reconstruction begins here. \n",
    "#Outputs probability coefficient using probability from IBM Q as input\n",
    "\n",
    "def prob_coeff(p):\n",
    "    d1 = np.eye(4)\n",
    "    ab = [1, -1]\n",
    "    A = []\n",
    "    for i in range(1,4):\n",
    "        for j in range(1,4):\n",
    "            for a in ab :\n",
    "                for b in ab :\n",
    "                    B = []\n",
    "                    for al in range(4):\n",
    "                        for be in range(4):\n",
    "                            mat = (d1[al][0] + a* d1[al][i]) * (d1[be][0] + b* d1[be][j])/4\n",
    "                            #mat = (int(d0[al]) + a* int(d1[i][al])) * (int(d0[be]) + b*int(d1[j][be]))/4 \n",
    "                            B.append(mat)\n",
    "                    A.append(B) #We append our matrix here because we need 16 different elements of c_s so that we don't need to reshape\n",
    "    M = np.array(A, dtype = float)\n",
    "    M_inv = np.linalg.pinv(M)\n",
    "    C = np.matmul(M_inv, p)\n",
    "    return(C)\n"
   ]
  },
  {
   "cell_type": "markdown",
   "metadata": {},
   "source": [
    "#This is the rho equation which takes the prob coefficients (C) as its input\n",
    "def rho_eq(C):\n",
    "    B = []\n",
    "    d = 0\n",
    "    for al in range(4):\n",
    "        for be in range(4):\n",
    "            rho_q2 = C[d] * np.kron(Pauli(al),Pauli(be))/4\n",
    "            d = d + 1\n",
    "            B.append(rho_q2)\n",
    "    \n",
    "    \n",
    "    return(B)\n",
    "\n",
    "rho = np.zeros((4,4))\n",
    "for i in range(len(B)):\n",
    "    rho = rho + B[i]\n",
    "rho\n",
    "\n",
    "#We combine these two parts to create the function below. \n",
    "\n",
    "\n"
   ]
  },
  {
   "cell_type": "code",
   "execution_count": 13,
   "metadata": {},
   "outputs": [],
   "source": [
    "#This is the rho equation which takes the prob coefficients (C) as its input and returns the reconstructed density operator\n",
    "def rho_eq(C):\n",
    "    B = []\n",
    "    d = 0\n",
    "    rho = np.zeros((4,4))\n",
    "    for al in range(4):\n",
    "        for be in range(4):\n",
    "            rho_q2 = C[d] * np.kron(Pauli(al),Pauli(be))/4\n",
    "            d = d + 1\n",
    "            B.append(rho_q2)\n",
    "        \n",
    "    for i in range(len(B)):\n",
    "        rho = rho + B[i]\n",
    "    return(rho)\n",
    "\n",
    "\n",
    "\n",
    "\n",
    "\n"
   ]
  },
  {
   "cell_type": "code",
   "execution_count": 14,
   "metadata": {},
   "outputs": [],
   "source": [
    "#takes the reconstructed density operator as its input and changes the list with negative eigenvalues to positive.\n",
    "def pos_eigval_creater(den_op):\n",
    "    a = 0\n",
    "    eigval = np.linalg.eigvalsh(den_op)\n",
    "    meu = sorted(eigval, reverse = True)\n",
    "    lmd = np.zeros(len(meu))\n",
    "    count = 0\n",
    "    for i in reversed(range(len(meu))) :\n",
    "        if (meu[i].real + a/(i+1)) < 0:\n",
    "            lmd[i] = 0\n",
    "            a += lmd[i] + meu[i]\n",
    "            lmd[i-1] = meu[i-1].real + a\n",
    "            count = count + 1\n",
    "\n",
    "        else:\n",
    "            lmd[i] = meu[i].real + a/(count+1)\n",
    "    return(lmd)\n",
    "        "
   ]
  },
  {
   "cell_type": "code",
   "execution_count": 15,
   "metadata": {},
   "outputs": [],
   "source": [
    "#This function takes our reconstructed density operator and updates it with new eigenvalues \n",
    "def rho_updated_meu(den_op,lmd): #lmd is the new eigenvalue which is the output of  pos_eigval_creater(rho)\n",
    "    n = 2\n",
    "    matrix = np.zeros((2**n,2**n))\n",
    "    eigval, eigvecs = np.linalg.eig(den_op)\n",
    "    for i in range(len(lmd)):\n",
    "        matrix = matrix + lmd[i]* np.outer(eigvecs[:,i] , eigvecs[:,i])\n",
    "    return(matrix)\n",
    "\n"
   ]
  },
  {
   "cell_type": "code",
   "execution_count": 16,
   "metadata": {},
   "outputs": [],
   "source": [
    "def matrix_to_list(rho):\n",
    "    rho_list = []\n",
    "    for i in range(len(rho)):\n",
    "        for j in range(len(rho[0])):\n",
    "            rho_list.append(rho[i][j])\n",
    "    return(rho_list)\n",
    "\n"
   ]
  },
  {
   "cell_type": "code",
   "execution_count": 17,
   "metadata": {},
   "outputs": [],
   "source": [
    "def partial_transpose(rho_lst, q):#This function computes the partial transpose of a matrix. \n",
    "    z = np.array([1,0])\n",
    "    o = np.array([0,1])\n",
    "    lst = [z,o]\n",
    "    M = np.zeros((4,4))\n",
    "    dd = 0\n",
    "    for i in lst:\n",
    "        for j in lst:\n",
    "            for i1 in lst:\n",
    "                for j1 in lst:\n",
    "                    if q == 0:\n",
    "                        M = M + rho_lst[dd] * np.kron(np.outer(i1,i),np.outer(j,j1))\n",
    "                    elif q == 1:\n",
    "                        M = M + rho_lst[dd] * np.kron(np.outer(i,i1),np.outer(j1,j))\n",
    "                    dd = dd + 1\n",
    "    return(M)               \n",
    "                "
   ]
  },
  {
   "cell_type": "code",
   "execution_count": 18,
   "metadata": {},
   "outputs": [],
   "source": [
    "#How do I incorporate new eigenvalues to the density operator "
   ]
  },
  {
   "cell_type": "code",
   "execution_count": 19,
   "metadata": {},
   "outputs": [],
   "source": [
    "def csv_to_dict(filename, PATH):  \n",
    "    outcome = []\n",
    "    output = []\n",
    "    import csv\n",
    "    with open(PATH + filename) as csv_file:\n",
    "        csv_reader = csv.reader(csv_file, delimiter=',')\n",
    "        for row in csv_reader:\n",
    "            row = row[1:5]\n",
    "            outcome.append(row)\n",
    "\n",
    "    for i in range(1,len(outcome)):\n",
    "        for j in range(len(outcome[0])):\n",
    "            if outcome[i][j] == '':\n",
    "                outcome[i][j] = 0\n",
    "            else:    \n",
    "                outcome[i][j] = int(float(outcome[i][j]))\n",
    "        output.append(dict(zip(outcome[0], outcome[i])))\n",
    "    return output       \n",
    "        "
   ]
  },
  {
   "cell_type": "code",
   "execution_count": 20,
   "metadata": {},
   "outputs": [],
   "source": [
    "path1 =  '/Users/student/Documents/summer_research/circuit_results/project1_files/ET/' "
   ]
  },
  {
   "cell_type": "code",
   "execution_count": 21,
   "metadata": {},
   "outputs": [
    {
     "data": {
      "text/plain": [
       "[[{'01': 218, '11': 3804, '00': 3840, '10': 270},\n",
       "  {'01': 2128, '11': 1996, '00': 2137, '10': 1871},\n",
       "  {'01': 1999, '11': 2117, '00': 1983, '10': 2033},\n",
       "  {'01': 1883, '11': 1991, '00': 2156, '10': 2102},\n",
       "  {'01': 3835, '11': 67, '00': 421, '10': 3809},\n",
       "  {'01': 1962, '11': 1909, '00': 2045, '10': 2216},\n",
       "  {'01': 2049, '11': 1946, '00': 1973, '10': 2164},\n",
       "  {'01': 2224, '11': 1856, '00': 2060, '10': 1992},\n",
       "  {'01': 170, '11': 3829, '00': 3877, '10': 256}],\n",
       " [{'01': 241, '11': 3848, '00': 3813, '10': 230},\n",
       "  {'01': 2076, '11': 1989, '00': 2143, '10': 1924},\n",
       "  {'01': 2001, '11': 2076, '00': 2048, '10': 2007},\n",
       "  {'01': 1813, '11': 2002, '00': 2186, '10': 2131},\n",
       "  {'01': 3766, '11': 66, '00': 413, '10': 3887},\n",
       "  {'01': 1889, '11': 1882, '00': 2181, '10': 2180},\n",
       "  {'01': 1936, '11': 2007, '00': 2101, '10': 2088},\n",
       "  {'01': 2157, '11': 1836, '00': 2053, '10': 2086},\n",
       "  {'01': 239, '11': 3760, '00': 3875, '10': 258}],\n",
       " [{'01': 220, '11': 3958, '00': 3714, '10': 240},\n",
       "  {'01': 2100, '11': 2144, '00': 2156, '10': 1732},\n",
       "  {'01': 2155, '11': 2074, '00': 1891, '10': 2012},\n",
       "  {'01': 1683, '11': 2149, '00': 2108, '10': 2192},\n",
       "  {'01': 3751, '11': 83, '00': 430, '10': 3868},\n",
       "  {'01': 2022, '11': 1900, '00': 2069, '10': 2141},\n",
       "  {'01': 1989, '11': 2105, '00': 1825, '10': 2213},\n",
       "  {'01': 2167, '11': 1913, '00': 2036, '10': 2016},\n",
       "  {'01': 234, '11': 3788, '00': 3868, '10': 242}],\n",
       " [{'01': 209, '11': 3935, '00': 3750, '10': 238},\n",
       "  {'01': 2100, '11': 2104, '00': 2094, '10': 1834},\n",
       "  {'01': 2152, '11': 2063, '00': 1958, '10': 1959},\n",
       "  {'01': 1740, '11': 2094, '00': 2119, '10': 2179},\n",
       "  {'01': 3752, '11': 78, '00': 440, '10': 3862},\n",
       "  {'01': 1997, '11': 1803, '00': 2061, '10': 2271},\n",
       "  {'01': 2017, '11': 2054, '00': 1940, '10': 2121},\n",
       "  {'01': 2210, '11': 1901, '00': 2025, '10': 1996},\n",
       "  {'01': 248, '11': 3747, '00': 3903, '10': 234}],\n",
       " [{'01': 232, '11': 3988, '00': 3665, '10': 247},\n",
       "  {'01': 2037, '11': 2039, '00': 2192, '10': 1864},\n",
       "  {'01': 2038, '11': 2158, '00': 1942, '10': 1994},\n",
       "  {'01': 1809, '11': 2079, '00': 2109, '10': 2135},\n",
       "  {'01': 3695, '11': 69, '00': 444, '10': 3924},\n",
       "  {'01': 1933, '11': 1868, '00': 2137, '10': 2194},\n",
       "  {'01': 1986, '11': 2106, '00': 1923, '10': 2117},\n",
       "  {'01': 2155, '11': 1873, '00': 2032, '10': 2072},\n",
       "  {'01': 205, '11': 3840, '00': 3848, '10': 239}],\n",
       " [{'01': 200, '11': 3808, '00': 3884, '10': 240},\n",
       "  {'01': 2135, '11': 1947, '00': 2147, '10': 1903},\n",
       "  {'01': 2072, '11': 2105, '00': 1994, '10': 1961},\n",
       "  {'01': 1852, '11': 2008, '00': 2188, '10': 2084},\n",
       "  {'01': 3780, '11': 51, '00': 485, '10': 3816},\n",
       "  {'01': 1946, '11': 1841, '00': 2121, '10': 2224},\n",
       "  {'01': 2076, '11': 1992, '00': 2037, '10': 2027},\n",
       "  {'01': 2146, '11': 1977, '00': 2014, '10': 1995},\n",
       "  {'01': 223, '11': 3806, '00': 3879, '10': 224}],\n",
       " [{'01': 259, '11': 3865, '00': 3765, '10': 243},\n",
       "  {'01': 2015, '11': 2087, '00': 2108, '10': 1922},\n",
       "  {'01': 2025, '11': 2042, '00': 2013, '10': 2052},\n",
       "  {'01': 1898, '11': 1927, '00': 2123, '10': 2184},\n",
       "  {'01': 3773, '11': 86, '00': 436, '10': 3837},\n",
       "  {'01': 1978, '11': 1927, '00': 2010, '10': 2217},\n",
       "  {'01': 2080, '11': 2064, '00': 1950, '10': 2038},\n",
       "  {'01': 2152, '11': 1868, '00': 2087, '10': 2025},\n",
       "  {'01': 223, '11': 3727, '00': 3943, '10': 239}],\n",
       " [{'01': 209, '11': 3834, '00': 3859, '10': 230},\n",
       "  {'01': 2080, '11': 2028, '00': 2117, '10': 1907},\n",
       "  {'01': 1987, '11': 2146, '00': 1964, '10': 2035},\n",
       "  {'01': 1870, '11': 1972, '00': 2135, '10': 2155},\n",
       "  {'01': 3797, '11': 65, '00': 435, '10': 3835},\n",
       "  {'01': 1961, '11': 1860, '00': 2180, '10': 2131},\n",
       "  {'01': 1992, '11': 1984, '00': 2011, '10': 2145},\n",
       "  {'01': 2204, '11': 1878, '00': 2029, '10': 2021},\n",
       "  {'01': 198, '11': 3825, '00': 3864, '10': 245}],\n",
       " [{'01': 212, '11': 4011, '00': 3711, '10': 198},\n",
       "  {'01': 2148, '11': 2070, '00': 2108, '10': 1806},\n",
       "  {'01': 2031, '11': 2207, '00': 1967, '10': 1927},\n",
       "  {'01': 1811, '11': 2056, '00': 2079, '10': 2186},\n",
       "  {'01': 3831, '11': 84, '00': 407, '10': 3810},\n",
       "  {'01': 2065, '11': 1838, '00': 1975, '10': 2254},\n",
       "  {'01': 2010, '11': 2069, '00': 1885, '10': 2168},\n",
       "  {'01': 2270, '11': 1890, '00': 1974, '10': 1998},\n",
       "  {'01': 233, '11': 3851, '00': 3840, '10': 208}],\n",
       " [{'10': 185, '00': 3811, '11': 3715, '01': 421},\n",
       "  {'10': 1780, '00': 2273, '11': 1826, '01': 2253},\n",
       "  {'10': 1954, '00': 2112, '11': 1706, '01': 2360},\n",
       "  {'10': 1857, '00': 2317, '11': 1903, '01': 2055},\n",
       "  {'10': 3546, '00': 583, '11': 84, '01': 3919},\n",
       "  {'10': 1787, '00': 2286, '11': 1797, '01': 2262},\n",
       "  {'10': 1922, '00': 2307, '11': 1879, '01': 2024},\n",
       "  {'10': 1884, '00': 2296, '11': 1747, '01': 2205},\n",
       "  {'10': 173, '00': 4087, '11': 3437, '01': 435}],\n",
       " [{'10': 168, '00': 3879, '11': 3689, '01': 396},\n",
       "  {'10': 1778, '00': 2214, '11': 1924, '01': 2216},\n",
       "  {'10': 1897, '00': 2120, '11': 1721, '01': 2394},\n",
       "  {'10': 1873, '00': 2278, '11': 1889, '01': 2092},\n",
       "  {'10': 3639, '00': 555, '11': 81, '01': 3857},\n",
       "  {'10': 1885, '00': 2252, '11': 1803, '01': 2192},\n",
       "  {'10': 1895, '00': 2338, '11': 1966, '01': 1933},\n",
       "  {'10': 1917, '00': 2317, '11': 1752, '01': 2146},\n",
       "  {'10': 128, '00': 4096, '11': 3463, '01': 445}],\n",
       " [{'10': 146, '00': 3846, '11': 3691, '01': 449},\n",
       "  {'10': 1793, '00': 2235, '11': 1899, '01': 2205},\n",
       "  {'10': 1853, '00': 2163, '11': 1703, '01': 2413},\n",
       "  {'10': 1937, '00': 2205, '11': 1928, '01': 2062},\n",
       "  {'10': 3646, '00': 511, '11': 92, '01': 3883},\n",
       "  {'10': 1763, '00': 2256, '11': 1866, '01': 2247},\n",
       "  {'10': 1853, '00': 2362, '11': 1897, '01': 2020},\n",
       "  {'10': 1897, '00': 2325, '11': 1743, '01': 2167},\n",
       "  {'10': 149, '00': 4080, '11': 3491, '01': 412}],\n",
       " [{'10': 171, '00': 3804, '11': 3709, '01': 448},\n",
       "  {'10': 1701, '00': 2297, '11': 1937, '01': 2197},\n",
       "  {'10': 1865, '00': 2073, '11': 1722, '01': 2472},\n",
       "  {'10': 1887, '00': 2237, '11': 2043, '01': 1965},\n",
       "  {'10': 3598, '00': 546, '11': 90, '01': 3898},\n",
       "  {'10': 1829, '00': 2258, '11': 1773, '01': 2272},\n",
       "  {'10': 1825, '00': 2306, '11': 2105, '01': 1896},\n",
       "  {'10': 1927, '00': 2341, '11': 1729, '01': 2135},\n",
       "  {'10': 130, '00': 4152, '11': 3426, '01': 424}],\n",
       " [{'10': 147, '00': 3900, '11': 3639, '01': 446},\n",
       "  {'10': 1769, '00': 2271, '11': 1828, '01': 2264},\n",
       "  {'10': 1823, '00': 2176, '11': 1763, '01': 2370},\n",
       "  {'10': 1912, '00': 2215, '11': 1920, '01': 2085},\n",
       "  {'10': 3476, '00': 542, '11': 76, '01': 4038},\n",
       "  {'10': 1885, '00': 2278, '11': 1760, '01': 2209},\n",
       "  {'10': 1838, '00': 2436, '11': 1952, '01': 1906},\n",
       "  {'10': 1908, '00': 2307, '11': 1748, '01': 2169},\n",
       "  {'10': 155, '00': 4118, '11': 3414, '01': 445}],\n",
       " [{'10': 143, '00': 3886, '11': 3671, '01': 432},\n",
       "  {'10': 1863, '00': 2182, '11': 1784, '01': 2303},\n",
       "  {'10': 1922, '00': 2076, '11': 1669, '01': 2465},\n",
       "  {'10': 1927, '00': 2170, '11': 1931, '01': 2104},\n",
       "  {'10': 3553, '00': 504, '11': 76, '01': 3999},\n",
       "  {'10': 1879, '00': 2253, '11': 1783, '01': 2217},\n",
       "  {'10': 1844, '00': 2357, '11': 1935, '01': 1996},\n",
       "  {'10': 1912, '00': 2303, '11': 1825, '01': 2092},\n",
       "  {'10': 123, '00': 4215, '11': 3402, '01': 392}]]"
      ]
     },
     "execution_count": 21,
     "metadata": {},
     "output_type": "execute_result"
    }
   ],
   "source": [
    "x = []\n",
    "for i in range(15):\n",
    "    raw_data = csv_to_dict(\"var_A_H&C\" + str(i)+ \".csv\", path1)\n",
    "    x.append(raw_data)\n",
    "    \n",
    "x"
   ]
  },
  {
   "cell_type": "code",
   "execution_count": 22,
   "metadata": {},
   "outputs": [],
   "source": [
    "#define your path1 and q.\n",
    "def ET_for_all(path):\n",
    "    ET_list = []\n",
    "    for i in range(0,15):\n",
    "        q = 1\n",
    "        raw_data = csv_to_dict(\"var_A_H&C\" + str(i)+ \".csv\", path)\n",
    "\n",
    "        p = probability(sort_output(raw_data))\n",
    "\n",
    "        Coeff = prob_coeff(p)\n",
    "\n",
    "        den_op = rho_eq(Coeff)\n",
    "\n",
    "        lmd = pos_eigval_creater(den_op)\n",
    "        rho_with_meu = rho_updated_meu(den_op,lmd)\n",
    "\n",
    "        rho_lst = matrix_to_list(rho_with_meu)\n",
    "\n",
    "        rhoTp = partial_transpose(rho_lst, q)\n",
    "\n",
    "        ET_list.append(negativity(4, rhoTp))\n",
    "\n",
    "    return ET_list\n",
    "\n",
    "\n"
   ]
  },
  {
   "cell_type": "code",
   "execution_count": 23,
   "metadata": {},
   "outputs": [
    {
     "data": {
      "text/plain": [
       "[0.4138027021386971,\n",
       " 0.4118910691730322,\n",
       " 0.410232804529744,\n",
       " 0.41139053374551127,\n",
       " 0.41152762158763445,\n",
       " 0.4125003224695767,\n",
       " 0.4098761225127465,\n",
       " 0.4151385422665155,\n",
       " 0.41779525007081353,\n",
       " 0.38537801991324794,\n",
       " 0.3929576517098865,\n",
       " 0.39212718416649295,\n",
       " 0.38974778821693346,\n",
       " 0.38860985595878117,\n",
       " 0.39817580398371355]"
      ]
     },
     "execution_count": 23,
     "metadata": {},
     "output_type": "execute_result"
    }
   ],
   "source": [
    "out = ET_for_all(path1)\n",
    "out\n"
   ]
  },
  {
   "cell_type": "code",
   "execution_count": 25,
   "metadata": {},
   "outputs": [],
   "source": [
    "df = pd.DataFrame(ET_for_all(path1))\n",
    "df.to_csv(path1 +  \"ET_var_A.csv\")"
   ]
  },
  {
   "cell_type": "code",
   "execution_count": 27,
   "metadata": {},
   "outputs": [
    {
     "data": {
      "text/plain": [
       "[0.38537801991324794, 0.41779525007081353, 0.4040767514962218]"
      ]
     },
     "execution_count": 27,
     "metadata": {},
     "output_type": "execute_result"
    }
   ],
   "source": [
    "[min(out),max(out),np.mean(out)]"
   ]
  },
  {
   "cell_type": "code",
   "execution_count": 28,
   "metadata": {},
   "outputs": [],
   "source": [
    "#order ET(id gates in all), var_B(1H,CNOT), var_C(id on first2), var_D(id on first and last), \n",
    "#var_E(2nd and 3rd), var_G(2nd only), var_H(3rd only)\n",
    "output = [[0.38537801991324794, 0.41779525007081353, 0.4040767514962218],\n",
    "         [0.3895806356520859, 0.42645967686528474, 0.4169927177669487],\n",
    "         [0.38537801991324794, 0.41779525007081353, 0.4040767514962218],\n",
    "          [0.4014299023456158, 0.42077439052851373, 0.4127041568847389],\n",
    "          [0.40081447720485586, 0.4216686478251114, 0.41091873584542343],\n",
    "          [0.4044517134756368, 0.4230355154286348, 0.4148161193078571],\n",
    "          [0.40113310423408755, 0.42498004499371866, 0.417362520268801]]"
   ]
  },
  {
   "cell_type": "code",
   "execution_count": null,
   "metadata": {},
   "outputs": [],
   "source": []
  }
 ],
 "metadata": {
  "kernelspec": {
   "display_name": "Python 3",
   "language": "python",
   "name": "python3"
  },
  "language_info": {
   "codemirror_mode": {
    "name": "ipython",
    "version": 3
   },
   "file_extension": ".py",
   "mimetype": "text/x-python",
   "name": "python",
   "nbconvert_exporter": "python",
   "pygments_lexer": "ipython3",
   "version": "3.7.6"
  }
 },
 "nbformat": 4,
 "nbformat_minor": 4
}
